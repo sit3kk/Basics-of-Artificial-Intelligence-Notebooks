{
 "cells": [
  {
   "cell_type": "markdown",
   "metadata": {},
   "source": [
    "# Train test split\n"
   ]
  },
  {
   "cell_type": "code",
   "execution_count": 2,
   "metadata": {
    "collapsed": true
   },
   "outputs": [],
   "source": [
    "import numpy as np\n",
    "import pandas as pd\n",
    "import scipy.stats as stats\n",
    "import sklearn.linear_model as lm\n",
    "from sklearn import datasets, linear_model\n",
    "import matplotlib.pyplot as plt\n",
    "\n",
    "from sklearn.preprocessing import PolynomialFeatures\n",
    "from sklearn.pipeline import make_pipeline\n",
    "\n",
    "from sklearn import  metrics"
   ]
  },
  {
   "cell_type": "markdown",
   "metadata": {},
   "source": [
    "Rozważmy następujący zbiór punktów:"
   ]
  },
  {
   "cell_type": "code",
   "execution_count": 3,
   "metadata": {},
   "outputs": [
    {
     "data": {
      "image/png": "[encoded data removed]",
      "text/plain": [
       "<Figure size 640x480 with 1 Axes>"
      ]
     },
     "metadata": {},
     "output_type": "display_data"
    }
   ],
   "source": [
    "x = stats.uniform(0,3).rvs(100)\n",
    "f = lambda x: ((x*2-1)*(x**2-2)*(x-2)+3)\n",
    "y = f(x) + stats.norm(0,0.3).rvs(len(x))\n",
    "plt.plot(x, y, 'ok', ms=10);\n",
    "plt.show()"
   ]
  },
  {
   "cell_type": "markdown",
   "metadata": {},
   "source": [
    "# Przykład\n",
    "Podziel zbiór danych na część testową i treningową. \n",
    "Naucz model na części treningowej i ocen wyniki na części testowej."
   ]
  },
  {
   "cell_type": "code",
   "execution_count": 4,
   "metadata": {},
   "outputs": [
    {
     "name": "stdout",
     "output_type": "stream",
     "text": [
      "(60,) (60,)\n",
      "(40,) (40,)\n"
     ]
    }
   ],
   "source": [
    "from sklearn.model_selection import train_test_split\n",
    "X_train, X_test, y_train, y_test = train_test_split(x, y, test_size=0.4, random_state=0)\n",
    "\n",
    "print(X_train.shape, y_train.shape)\n",
    "print(X_test.shape, y_test.shape)"
   ]
  },
  {
   "cell_type": "code",
   "execution_count": 5,
   "metadata": {
    "collapsed": true
   },
   "outputs": [],
   "source": [
    "X_train=np.vstack(X_train)\n",
    "X_test=np.vstack(X_test)"
   ]
  },
  {
   "cell_type": "code",
   "execution_count": 6,
   "metadata": {},
   "outputs": [
    {
     "data": {
      "text/plain": [
       "array([ 6.30381199,  1.70101809,  4.59532357,  2.0335477 , 18.32000189,\n",
       "        1.09330104,  7.57724862, 14.31464026,  1.08864498,  1.82464533,\n",
       "        1.48370303, 10.36196313,  1.14219161,  1.58350821,  8.27130307,\n",
       "       17.82955942,  5.92141198,  1.21937957,  4.42383443,  2.01863365,\n",
       "        6.21624728,  3.66019558,  6.90785169,  4.87280982,  7.12399673,\n",
       "        9.15256802,  4.58201947,  4.002169  ,  4.51935564, 13.67597911,\n",
       "        5.22281187,  4.55660488, 13.83512939, 15.28334887,  6.43924096,\n",
       "        2.68050996,  1.09449399,  6.79423651,  1.87716015,  1.30447692])"
      ]
     },
     "execution_count": 6,
     "metadata": {},
     "output_type": "execute_result"
    }
   ],
   "source": [
    "model2 = make_pipeline(PolynomialFeatures(2), linear_model.LinearRegression())\n",
    "model2.fit(X_train, y_train)\n",
    "model2.predict(X_test)"
   ]
  },
  {
   "cell_type": "code",
   "execution_count": 7,
   "metadata": {},
   "outputs": [
    {
     "name": "stdout",
     "output_type": "stream",
     "text": [
      "Explained variance score: 0.6973867357168939\n",
      "Explained variance score: 0.6973867357168939\n",
      "Median absolute error: 2.8047878408787215\n",
      "Mean squared error: 11.795304265071184\n",
      "Mean absolute errors: 2.9202333743151647\n"
     ]
    }
   ],
   "source": [
    "print(\"Explained variance score: {}\".format( metrics.explained_variance_score(y_test, model2.predict(X_test)) ))\n",
    "print(\"Explained variance score: {}\".format( metrics.explained_variance_score(y_test, model2.predict(X_test)) ))\n",
    "print(\"Median absolute error: {}\".format( metrics.median_absolute_error(y_test, model2.predict(X_test)) ))\n",
    "print(\"Mean squared error: {}\".format( metrics.mean_squared_error(y_test, model2.predict(X_test)) ))\n",
    "print(\"Mean absolute errors: {}\".format(metrics.mean_absolute_error(y_test, model2.predict(X_test)) ))"
   ]
  },
  {
   "cell_type": "markdown",
   "metadata": {},
   "source": [
    "# Zadanie\n",
    "Wylicz powyższe miary dla wszytkich modeli:\n",
    "\n",
    "- regrsji linowej\n",
    "- regrsji wielomianowej stopnia 2\n",
    "- regrsji wielomianowej stopnia 3\n",
    "- regrsji wielomianowej stopnia 4\n",
    "- regrsji wielomianowej stopnia 5\n",
    "- regrsji wielomianowej stopnia 25"
   ]
  },
  {
   "cell_type": "code",
   "execution_count": 9,
   "metadata": {
    "collapsed": true
   },
   "outputs": [
    {
     "name": "stdout",
     "output_type": "stream",
     "text": [
      "Stopień 1: R2 = 0.482, MSE = 19.691\n",
      "Stopień 2: R2 = 0.690, MSE = 11.795\n",
      "Stopień 3: R2 = 0.979, MSE = 0.786\n",
      "Stopień 4: R2 = 0.998, MSE = 0.066\n",
      "Stopień 5: R2 = 0.998, MSE = 0.073\n",
      "Stopień 25: R2 = -8.160, MSE = 348.220\n"
     ]
    }
   ],
   "source": [
    "import numpy as np\n",
    "import matplotlib.pyplot as plt\n",
    "from sklearn.model_selection import train_test_split\n",
    "from sklearn.linear_model import LinearRegression\n",
    "from sklearn.metrics import r2_score, mean_squared_error\n",
    "from sklearn.preprocessing import PolynomialFeatures\n",
    "\n",
    "x = np.array(x).reshape(-1, 1)\n",
    "\n",
    "X_train, X_test, y_train, y_test = train_test_split(x, y, test_size=0.4, random_state=0)\n",
    "\n",
    "degrees = [1, 2, 3, 4, 5, 25]\n",
    "\n",
    "results = {}\n",
    "\n",
    "for degree in degrees:\n",
    "    poly_features = PolynomialFeatures(degree=degree)\n",
    "    X_train_poly = poly_features.fit_transform(X_train)\n",
    "    X_test_poly = poly_features.transform(X_test)\n",
    "    \n",
    "    model = LinearRegression()\n",
    "    model.fit(X_train_poly, y_train)\n",
    "    \n",
    "    y_pred = model.predict(X_test_poly)\n",
    "    \n",
    "    r2 = r2_score(y_test, y_pred)\n",
    "    mse = mean_squared_error(y_test, y_pred)\n",
    "   \n",
    "    \n",
    "    results[degree] = {'R2': r2, 'MSE': mse}\n",
    "\n",
    "for degree in results:\n",
    "    print(f\"Stopień {degree}: R2 = {results[degree]['R2']:.3f}, MSE = {results[degree]['MSE']:.3f}\")\n"
   ]
  }
 ],
 "metadata": {
  "kernelspec": {
   "display_name": "Python 3",
   "language": "python",
   "name": "python3"
  },
  "language_info": {
   "codemirror_mode": {
    "name": "ipython",
    "version": 3
   },
   "file_extension": ".py",
   "mimetype": "text/x-python",
   "name": "python",
   "nbconvert_exporter": "python",
   "pygments_lexer": "ipython3",
   "version": "3.12.2"
  }
 },
 "nbformat": 4,
 "nbformat_minor": 2
}
