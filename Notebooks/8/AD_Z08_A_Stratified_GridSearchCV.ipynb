{
 "cells": [
  {
   "cell_type": "markdown",
   "metadata": {
    "collapsed": true,
    "jupyter": {
     "outputs_hidden": true
    }
   },
   "source": [
    "# Stratified GridSearchCV"
   ]
  },
  {
   "cell_type": "code",
<<<<<<< HEAD
   "execution_count": 22,
=======
   "execution_count": 1,
>>>>>>> origin/main
   "metadata": {},
   "outputs": [],
   "source": [
    "import numpy as np\n",
    "import matplotlib.pyplot as plt\n",
    "from sklearn import datasets\n",
    "from sklearn.model_selection import cross_val_predict\n",
    "from sklearn import linear_model\n",
    "import matplotlib.pyplot as plt"
   ]
  },
  {
   "cell_type": "markdown",
   "metadata": {},
   "source": [
    "Rozważmy zbiór Breast Cancer"
   ]
  },
  {
   "cell_type": "code",
<<<<<<< HEAD
   "execution_count": 23,
=======
   "execution_count": 2,
>>>>>>> origin/main
   "metadata": {},
   "outputs": [
    {
     "name": "stdout",
     "output_type": "stream",
     "text": [
      ".. _breast_cancer_dataset:\n",
      "\n",
      "Breast cancer wisconsin (diagnostic) dataset\n",
      "--------------------------------------------\n",
      "\n",
      "**Data Set Characteristics:**\n",
      "\n",
<<<<<<< HEAD
      ":Number of Instances: 569\n",
      "\n",
      ":Number of Attributes: 30 numeric, predictive attributes and the class\n",
      "\n",
      ":Attribute Information:\n",
      "    - radius (mean of distances from center to points on the perimeter)\n",
      "    - texture (standard deviation of gray-scale values)\n",
      "    - perimeter\n",
      "    - area\n",
      "    - smoothness (local variation in radius lengths)\n",
      "    - compactness (perimeter^2 / area - 1.0)\n",
      "    - concavity (severity of concave portions of the contour)\n",
      "    - concave points (number of concave portions of the contour)\n",
      "    - symmetry\n",
      "    - fractal dimension (\"coastline approximation\" - 1)\n",
      "\n",
      "    The mean, standard error, and \"worst\" or largest (mean of the three\n",
      "    worst/largest values) of these features were computed for each image,\n",
      "    resulting in 30 features.  For instance, field 0 is Mean Radius, field\n",
      "    10 is Radius SE, field 20 is Worst Radius.\n",
      "\n",
      "    - class:\n",
      "            - WDBC-Malignant\n",
      "            - WDBC-Benign\n",
      "\n",
      ":Summary Statistics:\n",
      "\n",
      "===================================== ====== ======\n",
      "                                        Min    Max\n",
      "===================================== ====== ======\n",
      "radius (mean):                        6.981  28.11\n",
      "texture (mean):                       9.71   39.28\n",
      "perimeter (mean):                     43.79  188.5\n",
      "area (mean):                          143.5  2501.0\n",
      "smoothness (mean):                    0.053  0.163\n",
      "compactness (mean):                   0.019  0.345\n",
      "concavity (mean):                     0.0    0.427\n",
      "concave points (mean):                0.0    0.201\n",
      "symmetry (mean):                      0.106  0.304\n",
      "fractal dimension (mean):             0.05   0.097\n",
      "radius (standard error):              0.112  2.873\n",
      "texture (standard error):             0.36   4.885\n",
      "perimeter (standard error):           0.757  21.98\n",
      "area (standard error):                6.802  542.2\n",
      "smoothness (standard error):          0.002  0.031\n",
      "compactness (standard error):         0.002  0.135\n",
      "concavity (standard error):           0.0    0.396\n",
      "concave points (standard error):      0.0    0.053\n",
      "symmetry (standard error):            0.008  0.079\n",
      "fractal dimension (standard error):   0.001  0.03\n",
      "radius (worst):                       7.93   36.04\n",
      "texture (worst):                      12.02  49.54\n",
      "perimeter (worst):                    50.41  251.2\n",
      "area (worst):                         185.2  4254.0\n",
      "smoothness (worst):                   0.071  0.223\n",
      "compactness (worst):                  0.027  1.058\n",
      "concavity (worst):                    0.0    1.252\n",
      "concave points (worst):               0.0    0.291\n",
      "symmetry (worst):                     0.156  0.664\n",
      "fractal dimension (worst):            0.055  0.208\n",
      "===================================== ====== ======\n",
      "\n",
      ":Missing Attribute Values: None\n",
      "\n",
      ":Class Distribution: 212 - Malignant, 357 - Benign\n",
      "\n",
      ":Creator:  Dr. William H. Wolberg, W. Nick Street, Olvi L. Mangasarian\n",
      "\n",
      ":Donor: Nick Street\n",
      "\n",
      ":Date: November, 1995\n",
=======
      "    :Number of Instances: 569\n",
      "\n",
      "    :Number of Attributes: 30 numeric, predictive attributes and the class\n",
      "\n",
      "    :Attribute Information:\n",
      "        - radius (mean of distances from center to points on the perimeter)\n",
      "        - texture (standard deviation of gray-scale values)\n",
      "        - perimeter\n",
      "        - area\n",
      "        - smoothness (local variation in radius lengths)\n",
      "        - compactness (perimeter^2 / area - 1.0)\n",
      "        - concavity (severity of concave portions of the contour)\n",
      "        - concave points (number of concave portions of the contour)\n",
      "        - symmetry\n",
      "        - fractal dimension (\"coastline approximation\" - 1)\n",
      "\n",
      "        The mean, standard error, and \"worst\" or largest (mean of the three\n",
      "        worst/largest values) of these features were computed for each image,\n",
      "        resulting in 30 features.  For instance, field 0 is Mean Radius, field\n",
      "        10 is Radius SE, field 20 is Worst Radius.\n",
      "\n",
      "        - class:\n",
      "                - WDBC-Malignant\n",
      "                - WDBC-Benign\n",
      "\n",
      "    :Summary Statistics:\n",
      "\n",
      "    ===================================== ====== ======\n",
      "                                           Min    Max\n",
      "    ===================================== ====== ======\n",
      "    radius (mean):                        6.981  28.11\n",
      "    texture (mean):                       9.71   39.28\n",
      "    perimeter (mean):                     43.79  188.5\n",
      "    area (mean):                          143.5  2501.0\n",
      "    smoothness (mean):                    0.053  0.163\n",
      "    compactness (mean):                   0.019  0.345\n",
      "    concavity (mean):                     0.0    0.427\n",
      "    concave points (mean):                0.0    0.201\n",
      "    symmetry (mean):                      0.106  0.304\n",
      "    fractal dimension (mean):             0.05   0.097\n",
      "    radius (standard error):              0.112  2.873\n",
      "    texture (standard error):             0.36   4.885\n",
      "    perimeter (standard error):           0.757  21.98\n",
      "    area (standard error):                6.802  542.2\n",
      "    smoothness (standard error):          0.002  0.031\n",
      "    compactness (standard error):         0.002  0.135\n",
      "    concavity (standard error):           0.0    0.396\n",
      "    concave points (standard error):      0.0    0.053\n",
      "    symmetry (standard error):            0.008  0.079\n",
      "    fractal dimension (standard error):   0.001  0.03\n",
      "    radius (worst):                       7.93   36.04\n",
      "    texture (worst):                      12.02  49.54\n",
      "    perimeter (worst):                    50.41  251.2\n",
      "    area (worst):                         185.2  4254.0\n",
      "    smoothness (worst):                   0.071  0.223\n",
      "    compactness (worst):                  0.027  1.058\n",
      "    concavity (worst):                    0.0    1.252\n",
      "    concave points (worst):               0.0    0.291\n",
      "    symmetry (worst):                     0.156  0.664\n",
      "    fractal dimension (worst):            0.055  0.208\n",
      "    ===================================== ====== ======\n",
      "\n",
      "    :Missing Attribute Values: None\n",
      "\n",
      "    :Class Distribution: 212 - Malignant, 357 - Benign\n",
      "\n",
      "    :Creator:  Dr. William H. Wolberg, W. Nick Street, Olvi L. Mangasarian\n",
      "\n",
      "    :Donor: Nick Street\n",
      "\n",
      "    :Date: November, 1995\n",
>>>>>>> origin/main
      "\n",
      "This is a copy of UCI ML Breast Cancer Wisconsin (Diagnostic) datasets.\n",
      "https://goo.gl/U2Uwz2\n",
      "\n",
      "Features are computed from a digitized image of a fine needle\n",
      "aspirate (FNA) of a breast mass.  They describe\n",
      "characteristics of the cell nuclei present in the image.\n",
      "\n",
      "Separating plane described above was obtained using\n",
      "Multisurface Method-Tree (MSM-T) [K. P. Bennett, \"Decision Tree\n",
      "Construction Via Linear Programming.\" Proceedings of the 4th\n",
      "Midwest Artificial Intelligence and Cognitive Science Society,\n",
      "pp. 97-101, 1992], a classification method which uses linear\n",
      "programming to construct a decision tree.  Relevant features\n",
      "were selected using an exhaustive search in the space of 1-4\n",
      "features and 1-3 separating planes.\n",
      "\n",
      "The actual linear program used to obtain the separating plane\n",
      "in the 3-dimensional space is that described in:\n",
      "[K. P. Bennett and O. L. Mangasarian: \"Robust Linear\n",
      "Programming Discrimination of Two Linearly Inseparable Sets\",\n",
      "Optimization Methods and Software 1, 1992, 23-34].\n",
      "\n",
      "This database is also available through the UW CS ftp server:\n",
      "\n",
      "ftp ftp.cs.wisc.edu\n",
      "cd math-prog/cpo-dataset/machine-learn/WDBC/\n",
      "\n",
      "|details-start|\n",
      "**References**\n",
      "|details-split|\n",
      "\n",
<<<<<<< HEAD
      "- W.N. Street, W.H. Wolberg and O.L. Mangasarian. Nuclear feature extraction\n",
      "  for breast tumor diagnosis. IS&T/SPIE 1993 International Symposium on\n",
      "  Electronic Imaging: Science and Technology, volume 1905, pages 861-870,\n",
      "  San Jose, CA, 1993.\n",
      "- O.L. Mangasarian, W.N. Street and W.H. Wolberg. Breast cancer diagnosis and\n",
      "  prognosis via linear programming. Operations Research, 43(4), pages 570-577,\n",
      "  July-August 1995.\n",
      "- W.H. Wolberg, W.N. Street, and O.L. Mangasarian. Machine learning techniques\n",
      "  to diagnose breast cancer from fine-needle aspirates. Cancer Letters 77 (1994)\n",
      "  163-171.\n",
      "\n",
      "|details-end|\n",
      "\n"
=======
      "- W.N. Street, W.H. Wolberg and O.L. Mangasarian. Nuclear feature extraction \n",
      "  for breast tumor diagnosis. IS&T/SPIE 1993 International Symposium on \n",
      "  Electronic Imaging: Science and Technology, volume 1905, pages 861-870,\n",
      "  San Jose, CA, 1993.\n",
      "- O.L. Mangasarian, W.N. Street and W.H. Wolberg. Breast cancer diagnosis and \n",
      "  prognosis via linear programming. Operations Research, 43(4), pages 570-577, \n",
      "  July-August 1995.\n",
      "- W.H. Wolberg, W.N. Street, and O.L. Mangasarian. Machine learning techniques\n",
      "  to diagnose breast cancer from fine-needle aspirates. Cancer Letters 77 (1994) \n",
      "  163-171.\n",
      "\n",
      "|details-end|\n"
>>>>>>> origin/main
     ]
    }
   ],
   "source": [
    "np.random.seed(1)\n",
    "cancer = datasets.load_breast_cancer()\n",
    "# print description\n",
    "print(cancer.DESCR)"
   ]
  },
  {
   "cell_type": "code",
<<<<<<< HEAD
   "execution_count": 24,
=======
   "execution_count": 3,
>>>>>>> origin/main
   "metadata": {},
   "outputs": [],
   "source": [
    "# get the data\n",
    "X = cancer.data\n",
    "y = cancer.target"
   ]
  },
  {
   "cell_type": "markdown",
   "metadata": {},
   "source": [
    "Podzielmy zbiór na część testową i treningową ."
   ]
  },
  {
   "cell_type": "code",
<<<<<<< HEAD
   "execution_count": 25,
=======
   "execution_count": 4,
>>>>>>> origin/main
   "metadata": {},
   "outputs": [
    {
     "data": {
<<<<<<< HEAD
      "image/png": "iVBORw0KGgoAAAANSUhEUgAAAigAAAGdCAYAAAA44ojeAAAAOXRFWHRTb2Z0d2FyZQBNYXRwbG90bGliIHZlcnNpb24zLjguMywgaHR0cHM6Ly9tYXRwbG90bGliLm9yZy/H5lhTAAAACXBIWXMAAA9hAAAPYQGoP6dpAAAcAUlEQVR4nO3de2zV9f348VdbbMFJW6u2pbNecEPQeRvMWi9fb51cHNPIMt0IQcNkc8VEmnlhOpnugjFEjf5QolPZEpHNRd1kjo3hkLlV3VAyp4iibGCw9cKggLNc+vn98Q1n3ypeWnt5tzweyUns5/M+57zOe2if+/SckpdlWRYAAAnJ7+0BAADeS6AAAMkRKABAcgQKAJAcgQIAJEegAADJESgAQHIECgCQnAG9PUBntLW1xfr162Pw4MGRl5fX2+MAAB9DlmWxefPmqKqqivz8D79G0icDZf369VFdXd3bYwAAnbBu3bo48MADP3RNnwyUwYMHR8T/vsDi4uJengYA+DhaWlqiuro69338w/TJQNn1Y53i4mKBAgB9zMd5e4Y3yQIAyREoAEByBAoAkByBAgAkR6AAAMkRKABAcgQKAJAcgQIAJEegAADJESgAQHIECgCQHIECACRHoAAAyREoAEByBvT2AADQn928+KXeHqFTpn9xWK8+vysoAEByBAoAkByBAgAkR6AAAMkRKABAcgQKAJAcgQIAJEegAADJESgAQHIECgCQHIECACRHoAAAyREoAEByBAoAkByBAgAkR6AAAMkRKABAcgQKAJAcgQIAJEegAADJESgAQHIECgCQHIECACRHoAAAyREoAEByBAoAkByBAgAkR6AAAMkRKABAcgQKAJAcgQIAJEegAADJESgAQHIECgCQHIECACRHoAAAyREoAEByBAoAkByBAgAkR6AAAMkRKABAcgQKAJAcgQIAJEegAADJESgAQHIECgCQHIECACRHoAAAyREoAEByOhQos2bNii984QsxePDgKC8vj3PPPTdWrVrVbs27774b9fX1sd9++8U+++wTEyZMiObm5nZr1q5dG2effXbsvffeUV5eHpdffnns2LHjk78aAKBf6FCgPP7441FfXx9PPvlkLF68OLZv3x5nnXVWbN26Nbdm+vTp8cgjj8QDDzwQjz/+eKxfvz7OO++83PmdO3fG2WefHdu2bYu//OUv8dOf/jTmzZsX1157bde9KgCgT8vLsizr7J3ffPPNKC8vj8cffzz+53/+JzZt2hQHHHBAzJ8/P77yla9ERMSLL74YI0aMiMbGxjjhhBPit7/9bXzpS1+K9evXR0VFRUREzJ07N6688sp48803o7Cw8COft6WlJUpKSmLTpk1RXFzc2fEBoNvdvPil3h6hU6Z/cViXP2ZHvn9/ovegbNq0KSIiysrKIiJi+fLlsX379qirq8utGT58eBx00EHR2NgYERGNjY1x1FFH5eIkImL06NHR0tISzz///G6fp7W1NVpaWtrdAID+q9OB0tbWFpdddlmcdNJJ8bnPfS4iIpqamqKwsDBKS0vbra2oqIimpqbcmv8bJ7vO7zq3O7NmzYqSkpLcrbq6urNjAwB9QKcDpb6+Pv7xj3/EggULunKe3ZoxY0Zs2rQpd1u3bl23PycA0HsGdOZO06ZNi4ULF8ayZcviwAMPzB2vrKyMbdu2xcaNG9tdRWlubo7Kysrcmqeffrrd4+36lM+uNe9VVFQURUVFnRkVAOiDOnQFJcuymDZtWjz00EPx2GOPxaGHHtru/MiRI2OvvfaKJUuW5I6tWrUq1q5dG7W1tRERUVtbG88991y88cYbuTWLFy+O4uLiOOKIIz7JawEA+okOXUGpr6+P+fPnx69+9asYPHhw7j0jJSUlMWjQoCgpKYkpU6ZEQ0NDlJWVRXFxcVx66aVRW1sbJ5xwQkREnHXWWXHEEUfEpEmT4sYbb4ympqa45ppror6+3lUSACAiOhgod9xxR0REnHbaae2O33vvvXHhhRdGRMTNN98c+fn5MWHChGhtbY3Ro0fH7bffnltbUFAQCxcujEsuuSRqa2vjU5/6VEyePDmuv/76T/ZKAIB+4xP9HpTe4vegANBX+D0o/9VjvwcFAKA7CBQAIDkCBQBIjkABAJIjUACA5AgUACA5AgUASI5AAQCSI1AAgOQIFAAgOQIFAEiOQAEAkiNQAIDkCBQAIDkCBQBIjkABAJIjUACA5AgUACA5AgUASI5AAQCSI1AAgOQIFAAgOQIFAEiOQAEAkiNQAIDkCBQAIDkCBQBIjkABAJIjUACA5AgUACA5AgUASI5AAQCSI1AAgOQIFAAgOQIFAEiOQAEAkiNQAIDkCBQAIDkCBQBIjkABAJIjUACA5AgUACA5AgUASI5AAQCSI1AAgOQIFAAgOQIFAEiOQAEAkiNQAIDkCBQAIDkCBQBIjkABAJIjUACA5AgUACA5AgUASI5AAQCSI1AAgOQIFAAgOQIFAEiOQAEAkiNQAIDkCBQAIDkCBQBITocDZdmyZTF+/PioqqqKvLy8ePjhh9udv/DCCyMvL6/dbcyYMe3WbNiwISZOnBjFxcVRWloaU6ZMiS1btnyiFwIA9B8dDpStW7fGMcccE3PmzPnANWPGjInXX389d7v//vvbnZ84cWI8//zzsXjx4li4cGEsW7Yspk6d2vHpAYB+aUBH7zB27NgYO3bsh64pKiqKysrK3Z5buXJlLFq0KP7617/GqFGjIiLitttui3HjxsXs2bOjqqqqoyMBAP1Mt7wHZenSpVFeXh6HH354XHLJJfH222/nzjU2NkZpaWkuTiIi6urqIj8/P5566qnuGAcA6GM6fAXlo4wZMybOO++8OPTQQ+OVV16J7373uzF27NhobGyMgoKCaGpqivLy8vZDDBgQZWVl0dTUtNvHbG1tjdbW1tzXLS0tXT02AJCQLg+UCy64IPfPRx11VBx99NFx2GGHxdKlS+PMM8/s1GPOmjUrrrvuuq4aEQBIXLd/zHjo0KGx//77x+rVqyMiorKyMt544412a3bs2BEbNmz4wPetzJgxIzZt2pS7rVu3rrvHBgB6UbcHymuvvRZvv/12DBkyJCIiamtrY+PGjbF8+fLcmsceeyza2tqipqZmt49RVFQUxcXF7W4AQP/V4R/xbNmyJXc1JCJizZo1sWLFiigrK4uysrK47rrrYsKECVFZWRmvvPJKXHHFFfGZz3wmRo8eHRERI0aMiDFjxsTFF18cc+fOje3bt8e0adPiggsu8AkeACAiOnEF5W9/+1scd9xxcdxxx0VERENDQxx33HFx7bXXRkFBQfz973+PL3/5yzFs2LCYMmVKjBw5Mv70pz9FUVFR7jHuu+++GD58eJx55pkxbty4OPnkk+POO+/sulcFAPRpHb6Cctppp0WWZR94/ne/+91HPkZZWVnMnz+/o08NAOwh/F08AEByuvxjxv3BzYtf6u0ROmz6F4f19ggA0GVcQQEAkiNQAIDkCBQAIDkCBQBIjkABAJIjUACA5AgUACA5AgUASI5AAQCSI1AAgOQIFAAgOQIFAEiOQAEAkiNQAIDkCBQAIDkCBQBIjkABAJIjUACA5AgUACA5AgUASI5AAQCSI1AAgOQIFAAgOQIFAEiOQAEAkiNQAIDkCBQAIDkCBQBIjkABAJIjUACA5AgUACA5AgUASI5AAQCSI1AAgOQIFAAgOQN6ewAA6M9OWHtnb4/QSbN79dldQQEAkiNQAIDkCBQAIDkCBQBIjkABAJIjUACA5AgUACA5AgUASI5AAQCSI1AAgOQIFAAgOQIFAEiOQAEAkiNQAIDkCBQAIDkCBQBIjkABAJIjUACA5AgUACA5AgUASI5AAQCSI1AAgOQIFAAgOQIFAEiOQAEAkiNQAIDkdDhQli1bFuPHj4+qqqrIy8uLhx9+uN35LMvi2muvjSFDhsSgQYOirq4uXn755XZrNmzYEBMnTozi4uIoLS2NKVOmxJYtWz7RCwEA+o8OB8rWrVvjmGOOiTlz5uz2/I033hi33nprzJ07N5566qn41Kc+FaNHj4533303t2bixInx/PPPx+LFi2PhwoWxbNmymDp1audfBQDQrwzo6B3Gjh0bY8eO3e25LMvilltuiWuuuSbOOeeciIj42c9+FhUVFfHwww/HBRdcECtXroxFixbFX//61xg1alRERNx2220xbty4mD17dlRVVX2ClwMA9Add+h6UNWvWRFNTU9TV1eWOlZSURE1NTTQ2NkZERGNjY5SWlubiJCKirq4u8vPz46mnntrt47a2tkZLS0u7GwDQf3VpoDQ1NUVEREVFRbvjFRUVuXNNTU1RXl7e7vyAAQOirKwst+a9Zs2aFSUlJblbdXV1V44NACSmT3yKZ8aMGbFp06bcbd26db09EgDQjbo0UCorKyMiorm5ud3x5ubm3LnKysp444032p3fsWNHbNiwIbfmvYqKiqK4uLjdDQDov7o0UA499NCorKyMJUuW5I61tLTEU089FbW1tRERUVtbGxs3bozly5fn1jz22GPR1tYWNTU1XTkOANBHdfhTPFu2bInVq1fnvl6zZk2sWLEiysrK4qCDDorLLrssfvjDH8ZnP/vZOPTQQ+N73/teVFVVxbnnnhsRESNGjIgxY8bExRdfHHPnzo3t27fHtGnT4oILLvAJHgAgIjoRKH/729/i9NNPz33d0NAQERGTJ0+OefPmxRVXXBFbt26NqVOnxsaNG+Pkk0+ORYsWxcCBA3P3ue+++2LatGlx5plnRn5+fkyYMCFuvfXWLng5AEB/0OFAOe200yLLsg88n5eXF9dff31cf/31H7imrKws5s+f39GnBgD2EH3iUzwAwJ5FoAAAyREoAEByBAoAkByBAgAkR6AAAMkRKABAcgQKAJAcgQIAJEegAADJESgAQHIECgCQHIECACRHoAAAyREoAEByBAoAkByBAgAkR6AAAMkRKABAcgQKAJAcgQIAJEegAADJESgAQHIECgCQHIECACRHoAAAyREoAEByBAoAkByBAgAkR6AAAMkRKABAcgQKAJAcgQIAJEegAADJESgAQHIECgCQHIECACRHoAAAyREoAEByBAoAkByBAgAkR6AAAMkZ0NsDpOiEtXf29gidMLu3BwCALuMKCgCQHIECACRHoAAAyREoAEByBAoAkByBAgAkR6AAAMkRKABAcgQKAJAcgQIAJEegAADJESgAQHIECgCQHIECACRHoAAAyREoAEByBAoAkByBAgAkR6AAAMkRKABAcgQKAJCcLg+U73//+5GXl9fuNnz48Nz5d999N+rr62O//faLffbZJyZMmBDNzc1dPQYA0Id1yxWUI488Ml5//fXc7Yknnsidmz59ejzyyCPxwAMPxOOPPx7r16+P8847rzvGAAD6qAHd8qADBkRlZeX7jm/atCnuvvvumD9/fpxxxhkREXHvvffGiBEj4sknn4wTTjihO8YBAPqYbrmC8vLLL0dVVVUMHTo0Jk6cGGvXro2IiOXLl8f27dujrq4ut3b48OFx0EEHRWNj4wc+Xmtra7S0tLS7AQD9V5cHSk1NTcybNy8WLVoUd9xxR6xZsyZOOeWU2Lx5czQ1NUVhYWGUlpa2u09FRUU0NTV94GPOmjUrSkpKcrfq6uquHhsASEiX/4hn7NixuX8++uijo6amJg4++OD4xS9+EYMGDerUY86YMSMaGhpyX7e0tIgUAOjHuv1jxqWlpTFs2LBYvXp1VFZWxrZt22Ljxo3t1jQ3N+/2PSu7FBUVRXFxcbsbANB/dXugbNmyJV555ZUYMmRIjBw5Mvbaa69YsmRJ7vyqVati7dq1UVtb292jAAB9RJf/iOc73/lOjB8/Pg4++OBYv359zJw5MwoKCuJrX/talJSUxJQpU6KhoSHKysqiuLg4Lr300qitrfUJHgAgp8sD5bXXXouvfe1r8fbbb8cBBxwQJ598cjz55JNxwAEHRETEzTffHPn5+TFhwoRobW2N0aNHx+23397VYwAAfViXB8qCBQs+9PzAgQNjzpw5MWfOnK5+agCgn/B38QAAyREoAEByBAoAkByBAgAkR6AAAMkRKABAcgQKAJAcgQIAJEegAADJESgAQHIECgCQHIECACRHoAAAyREoAEByBAoAkByBAgAkR6AAAMkRKABAcgQKAJAcgQIAJEegAADJESgAQHIECgCQHIECACRHoAAAyREoAEByBAoAkByBAgAkR6AAAMkRKABAcgQKAJAcgQIAJEegAADJESgAQHIECgCQHIECACRHoAAAyREoAEByBAoAkByBAgAkR6AAAMkRKABAcgQKAJAcgQIAJEegAADJESgAQHIECgCQHIECACRHoAAAyREoAEByBAoAkByBAgAkR6AAAMkRKABAcgQKAJAcgQIAJEegAADJESgAQHIECgCQHIECACRHoAAAyREoAEByBAoAkJxeDZQ5c+bEIYccEgMHDoyampp4+umne3McACARvRYoP//5z6OhoSFmzpwZzzzzTBxzzDExevToeOONN3prJAAgEb0WKDfddFNcfPHFcdFFF8URRxwRc+fOjb333jvuueee3hoJAEjEgN540m3btsXy5ctjxowZuWP5+flRV1cXjY2N71vf2toara2tua83bdoUEREtLS3dMt/W/7R+9KLEdNdeAPDJ9MXvKRHd831l12NmWfaRa3slUN56663YuXNnVFRUtDteUVERL7744vvWz5o1K6677rr3Ha+uru62GfucS/9fb08AQH/Sjd9XNm/eHCUlJR+6plcCpaNmzJgRDQ0Nua/b2tpiw4YNsd9++0VeXl6XPldLS0tUV1fHunXrori4uEsfm/+yzz3DPvcM+9wz7HPP6a69zrIsNm/eHFVVVR+5tlcCZf/994+CgoJobm5ud7y5uTkqKyvft76oqCiKioraHSstLe3OEaO4uNi/AD3APvcM+9wz7HPPsM89pzv2+qOunOzSK2+SLSwsjJEjR8aSJUtyx9ra2mLJkiVRW1vbGyMBAAnptR/xNDQ0xOTJk2PUqFFx/PHHxy233BJbt26Niy66qLdGAgAS0WuBcv7558ebb74Z1157bTQ1NcWxxx4bixYtet8bZ3taUVFRzJw5830/UqJr2eeeYZ97hn3uGfa556Sw13nZx/msDwBAD/J38QAAyREoAEByBAoAkByBAgAkZ48MlDlz5sQhhxwSAwcOjJqamnj66ac/dP0DDzwQw4cPj4EDB8ZRRx0Vjz76aA9N2rd1ZJ/vuuuuOOWUU2LfffeNfffdN+rq6j7yfxf+V0f/PO+yYMGCyMvLi3PPPbd7B+wnOrrPGzdujPr6+hgyZEgUFRXFsGHD/LfjY+joPt9yyy1x+OGHx6BBg6K6ujqmT58e7777bg9N2zctW7Ysxo8fH1VVVZGXlxcPP/zwR95n6dKl8fnPfz6KioriM5/5TMybN6/b54xsD7NgwYKssLAwu+eee7Lnn38+u/jii7PS0tKsubl5t+v//Oc/ZwUFBdmNN96YvfDCC9k111yT7bXXXtlzzz3Xw5P3LR3d569//evZnDlzsmeffTZbuXJlduGFF2YlJSXZa6+91sOT9y0d3edd1qxZk33605/OTjnllOycc87pmWH7sI7uc2trazZq1Khs3Lhx2RNPPJGtWbMmW7p0abZixYoenrxv6eg+33fffVlRUVF23333ZWvWrMl+97vfZUOGDMmmT5/ew5P3LY8++mh29dVXZw8++GAWEdlDDz30oetfffXVbO+9984aGhqyF154IbvtttuygoKCbNGiRd065x4XKMcff3xWX1+f+3rnzp1ZVVVVNmvWrN2u/+pXv5qdffbZ7Y7V1NRk3/zmN7t1zr6uo/v8Xjt27MgGDx6c/fSnP+2uEfuFzuzzjh07shNPPDH7yU9+kk2ePFmgfAwd3ec77rgjGzp0aLZt27aeGrFf6Og+19fXZ2eccUa7Yw0NDdlJJ53UrXP2Jx8nUK644orsyCOPbHfs/PPPz0aPHt2Nk2XZHvUjnm3btsXy5cujrq4udyw/Pz/q6uqisbFxt/dpbGxstz4iYvTo0R+4ns7t83u98847sX379igrK+uuMfu8zu7z9ddfH+Xl5TFlypSeGLPP68w+//rXv47a2tqor6+PioqK+NznPhc//vGPY+fOnT01dp/TmX0+8cQTY/ny5bkfA7366qvx6KOPxrhx43pk5j1Fb30f7BN/m3FXeeutt2Lnzp3v+221FRUV8eKLL+72Pk1NTbtd39TU1G1z9nWd2ef3uvLKK6Oqqup9/1LwX53Z5yeeeCLuvvvuWLFiRQ9M2D90Zp9fffXVeOyxx2LixInx6KOPxurVq+Pb3/52bN++PWbOnNkTY/c5ndnnr3/96/HWW2/FySefHFmWxY4dO+Jb3/pWfPe73+2JkfcYH/R9sKWlJf7zn//EoEGDuuV596grKPQNN9xwQyxYsCAeeuihGDhwYG+P029s3rw5Jk2aFHfddVfsv//+vT1Ov9bW1hbl5eVx5513xsiRI+P888+Pq6++OubOndvbo/UrS5cujR//+Mdx++23xzPPPBMPPvhg/OY3v4kf/OAHvT0aXWCPuoKy//77R0FBQTQ3N7c73tzcHJWVlbu9T2VlZYfW07l93mX27Nlxww03xB/+8Ic4+uiju3PMPq+j+/zKK6/EP//5zxg/fnzuWFtbW0REDBgwIFatWhWHHXZY9w7dB3Xmz/OQIUNir732ioKCgtyxESNGRFNTU2zbti0KCwu7dea+qDP7/L3vfS8mTZoU3/jGNyIi4qijjoqtW7fG1KlT4+qrr478fP8fvCt80PfB4uLibrt6ErGHXUEpLCyMkSNHxpIlS3LH2traYsmSJVFbW7vb+9TW1rZbHxGxePHiD1xP5/Y5IuLGG2+MH/zgB7Fo0aIYNWpUT4zap3V0n4cPHx7PPfdcrFixInf78pe/HKeffnqsWLEiqqure3L8PqMzf55POumkWL16dS4AIyJeeumlGDJkiDj5AJ3Z53feeed9EbIrCjN/zVyX6bXvg936FtwELViwICsqKsrmzZuXvfDCC9nUqVOz0tLSrKmpKcuyLJs0aVJ21VVX5db/+c9/zgYMGJDNnj07W7lyZTZz5kwfM/4YOrrPN9xwQ1ZYWJj98pe/zF5//fXcbfPmzb31EvqEju7ze/kUz8fT0X1eu3ZtNnjw4GzatGnZqlWrsoULF2bl5eXZD3/4w956CX1CR/d55syZ2eDBg7P7778/e/XVV7Pf//732WGHHZZ99atf7a2X0Cds3rw5e/bZZ7Nnn302i4jspptuyp599tnsX//6V5ZlWXbVVVdlkyZNyq3f9THjyy+/PFu5cmU2Z84cHzPuLrfddlt20EEHZYWFhdnxxx+fPfnkk7lzp556ajZ58uR263/xi19kw4YNywoLC7Mjjzwy+81vftPDE/dNHdnngw8+OIuI991mzpzZ84P3MR398/x/CZSPr6P7/Je//CWrqanJioqKsqFDh2Y/+tGPsh07dvTw1H1PR/Z5+/bt2fe///3ssMMOywYOHJhVV1dn3/72t7N///vfPT94H/LHP/5xt/+93bW3kydPzk499dT33efYY4/NCgsLs6FDh2b33ntvt8+Zl2WugwEAadmj3oMCAPQNAgUASI5AAQCSI1AAgOQIFAAgOQIFAEiOQAEAkiNQAIDkCBQAIDkCBQBIjkABAJIjUACA5Px/F5as5iMekYcAAAAASUVORK5CYII=",
=======
      "image/png": "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",
>>>>>>> origin/main
      "text/plain": [
       "<Figure size 640x480 with 1 Axes>"
      ]
     },
     "metadata": {},
     "output_type": "display_data"
    }
   ],
   "source": [
    "from sklearn.model_selection import train_test_split\n",
    "X_train, X_test, y_train, y_test = train_test_split(X, y, test_size=0.33, random_state=42)\n",
    "\n",
    "plt.hist(y_train, alpha=0.5)\n",
    "plt.hist(y_test, alpha=0.5)\n",
    "plt.show()"
   ]
  },
  {
   "cell_type": "markdown",
   "metadata": {},
   "source": [
    "# Zadanie\n",
    "Znajdż najleprzy model dzieląc na zbiór testowy i terningowy dla \n",
    "\n",
    "* SVM z jądrem rbf\n",
    "* SVM z jądrem poly\n",
    "* SVM liniowego\n",
    "* Regresji logistycznej\n"
   ]
  },
  {
   "cell_type": "code",
<<<<<<< HEAD
   "execution_count": 57,
   "metadata": {},
   "outputs": [
    {
     "data": {
      "image/png": "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",
      "text/plain": [
       "<Figure size 640x480 with 1 Axes>"
      ]
     },
     "metadata": {},
     "output_type": "display_data"
    },
    {
     "name": "stdout",
     "output_type": "stream",
     "text": [
      "SVM with RBF kernel accuracy: 0.9521\n",
      "SVM with Polynomial kernel accuracy: 0.9415\n",
      "Linear SVM accuracy: 0.9362\n",
      "Logistic Regression accuracy: 0.9574\n",
      "\n",
      "Best model: Logistic Regression with an accuracy of 0.9574\n"
     ]
    },
    {
     "name": "stderr",
     "output_type": "stream",
     "text": [
      "/home/konrad/.local/lib/python3.12/site-packages/sklearn/svm/_classes.py:31: FutureWarning: The default value of `dual` will change from `True` to `'auto'` in 1.5. Set the value of `dual` explicitly to suppress the warning.\n",
      "  warnings.warn(\n",
      "/home/konrad/.local/lib/python3.12/site-packages/sklearn/svm/_base.py:1237: ConvergenceWarning: Liblinear failed to converge, increase the number of iterations.\n",
      "  warnings.warn(\n",
      "/home/konrad/.local/lib/python3.12/site-packages/sklearn/linear_model/_logistic.py:469: ConvergenceWarning: lbfgs failed to converge (status=1):\n",
      "STOP: TOTAL NO. of ITERATIONS REACHED LIMIT.\n",
      "\n",
      "Increase the number of iterations (max_iter) or scale the data as shown in:\n",
      "    https://scikit-learn.org/stable/modules/preprocessing.html\n",
      "Please also refer to the documentation for alternative solver options:\n",
      "    https://scikit-learn.org/stable/modules/linear_model.html#logistic-regression\n",
      "  n_iter_i = _check_optimize_result(\n"
     ]
    }
   ],
   "source": [
    "import numpy as np\n",
    "from sklearn import datasets\n",
    "from sklearn.model_selection import train_test_split\n",
    "from sklearn.svm import SVC, LinearSVC\n",
    "from sklearn.linear_model import LogisticRegression\n",
    "from sklearn.metrics import accuracy_score\n",
    "import matplotlib.pyplot as plt\n",
    "\n",
    "np.random.seed(1)\n",
    "cancer = datasets.load_breast_cancer()\n",
    "X = cancer.data\n",
    "y = cancer.target\n",
    "\n",
    "X_train, X_test, y_train, y_test = train_test_split(X, y, test_size=0.33, random_state=42)\n",
    "\n",
    "plt.hist(y_train, alpha=0.5, label='Training')\n",
    "plt.hist(y_test, alpha=0.5, label='Testing')\n",
    "plt.title('Distribution of Target Variable')\n",
    "plt.legend()\n",
    "plt.show()\n",
    "\n",
    "models = {\n",
    "    'SVM with RBF kernel': SVC(kernel='rbf', random_state=42),\n",
    "    'SVM with Polynomial kernel': SVC(kernel='poly', degree=3, random_state=42),\n",
    "    'Linear SVM': LinearSVC(random_state=42),\n",
    "    'Logistic Regression': LogisticRegression(random_state=42)\n",
    "}\n",
    "\n",
    "results = {}\n",
    "for name, model in models.items():\n",
    "    model.fit(X_train, y_train)\n",
    "    \n",
    "    y_pred = model.predict(X_test)\n",
    "    \n",
    "    accuracy = accuracy_score(y_test, y_pred)\n",
    "    results[name] = accuracy\n",
    "    print(f'{name} accuracy: {accuracy:.4f}')\n",
    "\n",
    "best_model = max(results, key=results.get)\n",
    "print(f'\\nBest model: {best_model} with an accuracy of {results[best_model]:.4f}')\n"
   ]
  },
  {
   "cell_type": "code",
   "execution_count": 26,
=======
   "execution_count": 8,
>>>>>>> origin/main
   "metadata": {},
   "outputs": [],
   "source": [
    "from sklearn.model_selection import StratifiedKFold\n",
    "\n",
    "seed=123\n",
    "kfold = StratifiedKFold(n_splits=5, random_state=seed, shuffle=True)"
   ]
  },
  {
   "cell_type": "code",
<<<<<<< HEAD
   "execution_count": 27,
=======
   "execution_count": 9,
>>>>>>> origin/main
   "metadata": {},
   "outputs": [
    {
     "data": {
      "text/plain": [
       "{'C': 1, 'gamma': 0.001}"
      ]
     },
<<<<<<< HEAD
     "execution_count": 27,
=======
     "execution_count": 9,
>>>>>>> origin/main
     "metadata": {},
     "output_type": "execute_result"
    }
   ],
   "source": [
    "from sklearn.model_selection import GridSearchCV\n",
    "from sklearn.svm import SVC\n",
    "\n",
    "param_grid = {'C': [0.001, 0.01, 0.1, 1, 10, 100],\n",
    "              'gamma': [0.001, 0.01, 0.1, 1, 10, 100]}\n",
    "\n",
    "grid_1 = GridSearchCV(SVC(), param_grid, cv=kfold, return_train_score=True)\n",
    "\n",
    "grid_1.fit(X_train, y_train)\n",
    "grid_1.best_params_"
   ]
  },
  {
   "cell_type": "code",
<<<<<<< HEAD
   "execution_count": 28,
=======
   "execution_count": 10,
>>>>>>> origin/main
   "metadata": {},
   "outputs": [],
   "source": [
    "def heatmap(values, xlabel, ylabel, xticklabels, yticklabels, cmap=None,\n",
    "            vmin=None, vmax=None, ax=None, fmt=\"%0.2f\"):\n",
    "    if ax is None:\n",
    "        ax = plt.gca()\n",
    "    # plot the mean cross-validation scores\n",
    "    img = ax.pcolor(values, cmap=cmap, vmin=vmin, vmax=vmax)\n",
    "    img.update_scalarmappable()\n",
    "    ax.set_xlabel(xlabel)\n",
    "    ax.set_ylabel(ylabel)\n",
    "    ax.set_xticks(np.arange(len(xticklabels)) + .5)\n",
    "    ax.set_yticks(np.arange(len(yticklabels)) + .5)\n",
    "    ax.set_xticklabels(xticklabels)\n",
    "    ax.set_yticklabels(yticklabels)\n",
    "    ax.set_aspect(1)\n",
    "\n",
    "    for p, color, value in zip(img.get_paths(), img.get_facecolors(),\n",
    "                               img.get_array()):\n",
    "        x, y = p.vertices[:-2, :].mean(0)\n",
    "        if np.mean(color[:3]) > 0.5:\n",
    "            c = 'k'\n",
    "        else:\n",
    "            c = 'w'\n",
    "        ax.text(x, y, fmt % value, color=c, ha=\"center\", va=\"center\")\n",
    "    return img"
   ]
  },
  {
   "cell_type": "code",
<<<<<<< HEAD
   "execution_count": 54,
   "metadata": {},
   "outputs": [
    {
     "data": {
      "text/html": [
       "<div>\n",
       "<style scoped>\n",
       "    .dataframe tbody tr th:only-of-type {\n",
       "        vertical-align: middle;\n",
       "    }\n",
       "\n",
       "    .dataframe tbody tr th {\n",
       "        vertical-align: top;\n",
       "    }\n",
       "\n",
       "    .dataframe thead th {\n",
       "        text-align: right;\n",
       "    }\n",
       "</style>\n",
       "<table border=\"1\" class=\"dataframe\">\n",
       "  <thead>\n",
       "    <tr style=\"text-align: right;\">\n",
       "      <th></th>\n",
       "      <th>mean_fit_time</th>\n",
       "      <th>std_fit_time</th>\n",
       "      <th>mean_score_time</th>\n",
       "      <th>std_score_time</th>\n",
       "      <th>param_C</th>\n",
       "      <th>param_gamma</th>\n",
       "      <th>params</th>\n",
       "      <th>split0_test_score</th>\n",
       "      <th>split1_test_score</th>\n",
       "      <th>split2_test_score</th>\n",
       "      <th>...</th>\n",
       "      <th>mean_test_score</th>\n",
       "      <th>std_test_score</th>\n",
       "      <th>rank_test_score</th>\n",
       "      <th>split0_train_score</th>\n",
       "      <th>split1_train_score</th>\n",
       "      <th>split2_train_score</th>\n",
       "      <th>split3_train_score</th>\n",
       "      <th>split4_train_score</th>\n",
       "      <th>mean_train_score</th>\n",
       "      <th>std_train_score</th>\n",
       "    </tr>\n",
       "  </thead>\n",
       "  <tbody>\n",
       "    <tr>\n",
       "      <th>0</th>\n",
       "      <td>0.003883</td>\n",
       "      <td>0.000272</td>\n",
       "      <td>0.001877</td>\n",
       "      <td>0.000496</td>\n",
       "      <td>0.0001</td>\n",
       "      <td>0.0001</td>\n",
       "      <td>{'C': 0.0001, 'gamma': 0.0001}</td>\n",
       "      <td>0.623377</td>\n",
       "      <td>0.618421</td>\n",
       "      <td>0.618421</td>\n",
       "      <td>...</td>\n",
       "      <td>0.619412</td>\n",
       "      <td>0.001982</td>\n",
       "      <td>8</td>\n",
       "      <td>0.618421</td>\n",
       "      <td>0.619672</td>\n",
       "      <td>0.619672</td>\n",
       "      <td>0.619672</td>\n",
       "      <td>0.619672</td>\n",
       "      <td>0.619422</td>\n",
       "      <td>0.0005</td>\n",
       "    </tr>\n",
       "    <tr>\n",
       "      <th>1</th>\n",
       "      <td>0.004491</td>\n",
       "      <td>0.000123</td>\n",
       "      <td>0.001924</td>\n",
       "      <td>0.000080</td>\n",
       "      <td>0.0001</td>\n",
       "      <td>0.001</td>\n",
       "      <td>{'C': 0.0001, 'gamma': 0.001}</td>\n",
       "      <td>0.623377</td>\n",
       "      <td>0.618421</td>\n",
       "      <td>0.618421</td>\n",
       "      <td>...</td>\n",
       "      <td>0.619412</td>\n",
       "      <td>0.001982</td>\n",
       "      <td>8</td>\n",
       "      <td>0.618421</td>\n",
       "      <td>0.619672</td>\n",
       "      <td>0.619672</td>\n",
       "      <td>0.619672</td>\n",
       "      <td>0.619672</td>\n",
       "      <td>0.619422</td>\n",
       "      <td>0.0005</td>\n",
       "    </tr>\n",
       "    <tr>\n",
       "      <th>2</th>\n",
       "      <td>0.005099</td>\n",
       "      <td>0.000097</td>\n",
       "      <td>0.001773</td>\n",
       "      <td>0.000120</td>\n",
       "      <td>0.0001</td>\n",
       "      <td>0.01</td>\n",
       "      <td>{'C': 0.0001, 'gamma': 0.01}</td>\n",
       "      <td>0.623377</td>\n",
       "      <td>0.618421</td>\n",
       "      <td>0.618421</td>\n",
       "      <td>...</td>\n",
       "      <td>0.619412</td>\n",
       "      <td>0.001982</td>\n",
       "      <td>8</td>\n",
       "      <td>0.618421</td>\n",
       "      <td>0.619672</td>\n",
       "      <td>0.619672</td>\n",
       "      <td>0.619672</td>\n",
       "      <td>0.619672</td>\n",
       "      <td>0.619422</td>\n",
       "      <td>0.0005</td>\n",
       "    </tr>\n",
       "    <tr>\n",
       "      <th>3</th>\n",
       "      <td>0.005105</td>\n",
       "      <td>0.000031</td>\n",
       "      <td>0.001713</td>\n",
       "      <td>0.000084</td>\n",
       "      <td>0.0001</td>\n",
       "      <td>0.1</td>\n",
       "      <td>{'C': 0.0001, 'gamma': 0.1}</td>\n",
       "      <td>0.623377</td>\n",
       "      <td>0.618421</td>\n",
       "      <td>0.618421</td>\n",
       "      <td>...</td>\n",
       "      <td>0.619412</td>\n",
       "      <td>0.001982</td>\n",
       "      <td>8</td>\n",
       "      <td>0.618421</td>\n",
       "      <td>0.619672</td>\n",
       "      <td>0.619672</td>\n",
       "      <td>0.619672</td>\n",
       "      <td>0.619672</td>\n",
       "      <td>0.619422</td>\n",
       "      <td>0.0005</td>\n",
       "    </tr>\n",
       "    <tr>\n",
       "      <th>4</th>\n",
       "      <td>0.005099</td>\n",
       "      <td>0.000126</td>\n",
       "      <td>0.001755</td>\n",
       "      <td>0.000097</td>\n",
       "      <td>0.0001</td>\n",
       "      <td>1</td>\n",
       "      <td>{'C': 0.0001, 'gamma': 1}</td>\n",
       "      <td>0.623377</td>\n",
       "      <td>0.618421</td>\n",
       "      <td>0.618421</td>\n",
       "      <td>...</td>\n",
       "      <td>0.619412</td>\n",
       "      <td>0.001982</td>\n",
       "      <td>8</td>\n",
       "      <td>0.618421</td>\n",
       "      <td>0.619672</td>\n",
       "      <td>0.619672</td>\n",
       "      <td>0.619672</td>\n",
       "      <td>0.619672</td>\n",
       "      <td>0.619422</td>\n",
       "      <td>0.0005</td>\n",
       "    </tr>\n",
       "  </tbody>\n",
       "</table>\n",
       "<p>5 rows × 22 columns</p>\n",
       "</div>"
      ],
      "text/plain": [
       "   mean_fit_time  std_fit_time  mean_score_time  std_score_time param_C  \\\n",
       "0       0.003883      0.000272         0.001877        0.000496  0.0001   \n",
       "1       0.004491      0.000123         0.001924        0.000080  0.0001   \n",
       "2       0.005099      0.000097         0.001773        0.000120  0.0001   \n",
       "3       0.005105      0.000031         0.001713        0.000084  0.0001   \n",
       "4       0.005099      0.000126         0.001755        0.000097  0.0001   \n",
       "\n",
       "  param_gamma                          params  split0_test_score  \\\n",
       "0      0.0001  {'C': 0.0001, 'gamma': 0.0001}           0.623377   \n",
       "1       0.001   {'C': 0.0001, 'gamma': 0.001}           0.623377   \n",
       "2        0.01    {'C': 0.0001, 'gamma': 0.01}           0.623377   \n",
       "3         0.1     {'C': 0.0001, 'gamma': 0.1}           0.623377   \n",
       "4           1       {'C': 0.0001, 'gamma': 1}           0.623377   \n",
       "\n",
       "   split1_test_score  split2_test_score  ...  mean_test_score  std_test_score  \\\n",
       "0           0.618421           0.618421  ...         0.619412        0.001982   \n",
       "1           0.618421           0.618421  ...         0.619412        0.001982   \n",
       "2           0.618421           0.618421  ...         0.619412        0.001982   \n",
       "3           0.618421           0.618421  ...         0.619412        0.001982   \n",
       "4           0.618421           0.618421  ...         0.619412        0.001982   \n",
       "\n",
       "   rank_test_score  split0_train_score  split1_train_score  \\\n",
       "0                8            0.618421            0.619672   \n",
       "1                8            0.618421            0.619672   \n",
       "2                8            0.618421            0.619672   \n",
       "3                8            0.618421            0.619672   \n",
       "4                8            0.618421            0.619672   \n",
       "\n",
       "   split2_train_score  split3_train_score  split4_train_score  \\\n",
       "0            0.619672            0.619672            0.619672   \n",
       "1            0.619672            0.619672            0.619672   \n",
       "2            0.619672            0.619672            0.619672   \n",
       "3            0.619672            0.619672            0.619672   \n",
       "4            0.619672            0.619672            0.619672   \n",
       "\n",
       "   mean_train_score  std_train_score  \n",
       "0          0.619422           0.0005  \n",
       "1          0.619422           0.0005  \n",
       "2          0.619422           0.0005  \n",
       "3          0.619422           0.0005  \n",
       "4          0.619422           0.0005  \n",
       "\n",
       "[5 rows x 22 columns]"
      ]
     },
     "metadata": {},
     "output_type": "display_data"
    }
   ],
=======
   "execution_count": 11,
   "metadata": {},
   "outputs": [],
>>>>>>> origin/main
   "source": [
    "import pandas as pd\n",
    "# convert to DataFrame\n",
    "results = pd.DataFrame(grid_1.cv_results_)\n",
    "# show the first 5 rows\n",
<<<<<<< HEAD
    "display(results.head())"
=======
    "# display(results.head())"
>>>>>>> origin/main
   ]
  },
  {
   "cell_type": "code",
<<<<<<< HEAD
   "execution_count": 53,
   "metadata": {},
   "outputs": [
    {
     "ename": "TypeError",
     "evalue": "Only length-1 arrays can be converted to Python scalars",
     "output_type": "error",
     "traceback": [
      "\u001b[0;31m---------------------------------------------------------------------------\u001b[0m",
      "\u001b[0;31mTypeError\u001b[0m                                 Traceback (most recent call last)",
      "Cell \u001b[0;32mIn[53], line 3\u001b[0m\n\u001b[1;32m      1\u001b[0m scores \u001b[38;5;241m=\u001b[39m np\u001b[38;5;241m.\u001b[39marray(results\u001b[38;5;241m.\u001b[39mmean_test_score)\u001b[38;5;241m.\u001b[39mreshape(\u001b[38;5;241m7\u001b[39m, \u001b[38;5;241m7\u001b[39m)\n\u001b[1;32m      2\u001b[0m \u001b[38;5;66;03m# plot the mean cross-validation scores\u001b[39;00m\n\u001b[0;32m----> 3\u001b[0m \u001b[43mheatmap\u001b[49m\u001b[43m(\u001b[49m\u001b[43mscores\u001b[49m\u001b[43m,\u001b[49m\u001b[43m \u001b[49m\u001b[43mxlabel\u001b[49m\u001b[38;5;241;43m=\u001b[39;49m\u001b[38;5;124;43m'\u001b[39;49m\u001b[38;5;124;43mgamma\u001b[39;49m\u001b[38;5;124;43m'\u001b[39;49m\u001b[43m,\u001b[49m\u001b[43m \u001b[49m\u001b[43mxticklabels\u001b[49m\u001b[38;5;241;43m=\u001b[39;49m\u001b[43mparam_grid\u001b[49m\u001b[43m[\u001b[49m\u001b[38;5;124;43m'\u001b[39;49m\u001b[38;5;124;43mgamma\u001b[39;49m\u001b[38;5;124;43m'\u001b[39;49m\u001b[43m]\u001b[49m\u001b[43m,\u001b[49m\u001b[43m \u001b[49m\u001b[43mylabel\u001b[49m\u001b[38;5;241;43m=\u001b[39;49m\u001b[38;5;124;43m'\u001b[39;49m\u001b[38;5;124;43mC\u001b[39;49m\u001b[38;5;124;43m'\u001b[39;49m\u001b[43m,\u001b[49m\u001b[43m \u001b[49m\u001b[43myticklabels\u001b[49m\u001b[38;5;241;43m=\u001b[39;49m\u001b[43mparam_grid\u001b[49m\u001b[43m[\u001b[49m\u001b[38;5;124;43m'\u001b[39;49m\u001b[38;5;124;43mC\u001b[39;49m\u001b[38;5;124;43m'\u001b[39;49m\u001b[43m]\u001b[49m\u001b[43m,\u001b[49m\u001b[43m \u001b[49m\u001b[43mcmap\u001b[49m\u001b[38;5;241;43m=\u001b[39;49m\u001b[38;5;124;43m\"\u001b[39;49m\u001b[38;5;124;43mviridis\u001b[39;49m\u001b[38;5;124;43m\"\u001b[39;49m\u001b[43m)\u001b[49m\n\u001b[1;32m      7\u001b[0m plt\u001b[38;5;241m.\u001b[39mshow()\n",
      "Cell \u001b[0;32mIn[30], line 25\u001b[0m, in \u001b[0;36mheatmap\u001b[0;34m(values, xlabel, ylabel, xticklabels, yticklabels, cmap, vmin, vmax, ax, fmt)\u001b[0m\n\u001b[1;32m     23\u001b[0m     \u001b[38;5;28;01melse\u001b[39;00m:\n\u001b[1;32m     24\u001b[0m         c \u001b[38;5;241m=\u001b[39m \u001b[38;5;124m'\u001b[39m\u001b[38;5;124mw\u001b[39m\u001b[38;5;124m'\u001b[39m\n\u001b[0;32m---> 25\u001b[0m     ax\u001b[38;5;241m.\u001b[39mtext(x, y, fmt \u001b[38;5;241m%\u001b[39m \u001b[38;5;28;43mfloat\u001b[39;49m\u001b[43m(\u001b[49m\u001b[43mvalue\u001b[49m\u001b[43m)\u001b[49m, color\u001b[38;5;241m=\u001b[39mc, ha\u001b[38;5;241m=\u001b[39m\u001b[38;5;124m\"\u001b[39m\u001b[38;5;124mcenter\u001b[39m\u001b[38;5;124m\"\u001b[39m, va\u001b[38;5;241m=\u001b[39m\u001b[38;5;124m\"\u001b[39m\u001b[38;5;124mcenter\u001b[39m\u001b[38;5;124m\"\u001b[39m)\n\u001b[1;32m     26\u001b[0m \u001b[38;5;28;01mreturn\u001b[39;00m img\n",
      "File \u001b[0;32m~/.local/lib/python3.12/site-packages/numpy/ma/core.py:4452\u001b[0m, in \u001b[0;36mMaskedArray.__float__\u001b[0;34m(self)\u001b[0m\n\u001b[1;32m   4447\u001b[0m \u001b[38;5;250m\u001b[39m\u001b[38;5;124;03m\"\"\"\u001b[39;00m\n\u001b[1;32m   4448\u001b[0m \u001b[38;5;124;03mConvert to float.\u001b[39;00m\n\u001b[1;32m   4449\u001b[0m \n\u001b[1;32m   4450\u001b[0m \u001b[38;5;124;03m\"\"\"\u001b[39;00m\n\u001b[1;32m   4451\u001b[0m \u001b[38;5;28;01mif\u001b[39;00m \u001b[38;5;28mself\u001b[39m\u001b[38;5;241m.\u001b[39msize \u001b[38;5;241m>\u001b[39m \u001b[38;5;241m1\u001b[39m:\n\u001b[0;32m-> 4452\u001b[0m     \u001b[38;5;28;01mraise\u001b[39;00m \u001b[38;5;167;01mTypeError\u001b[39;00m(\u001b[38;5;124m\"\u001b[39m\u001b[38;5;124mOnly length-1 arrays can be converted \u001b[39m\u001b[38;5;124m\"\u001b[39m\n\u001b[1;32m   4453\u001b[0m                     \u001b[38;5;124m\"\u001b[39m\u001b[38;5;124mto Python scalars\u001b[39m\u001b[38;5;124m\"\u001b[39m)\n\u001b[1;32m   4454\u001b[0m \u001b[38;5;28;01melif\u001b[39;00m \u001b[38;5;28mself\u001b[39m\u001b[38;5;241m.\u001b[39m_mask:\n\u001b[1;32m   4455\u001b[0m     warnings\u001b[38;5;241m.\u001b[39mwarn(\u001b[38;5;124m\"\u001b[39m\u001b[38;5;124mWarning: converting a masked element to nan.\u001b[39m\u001b[38;5;124m\"\u001b[39m, stacklevel\u001b[38;5;241m=\u001b[39m\u001b[38;5;241m2\u001b[39m)\n",
      "\u001b[0;31mTypeError\u001b[0m: Only length-1 arrays can be converted to Python scalars"
     ]
    },
    {
     "data": {
      "image/png": "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",
=======
   "execution_count": 12,
   "metadata": {},
   "outputs": [
    {
     "data": {
      "image/png": "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",
>>>>>>> origin/main
      "text/plain": [
       "<Figure size 640x480 with 1 Axes>"
      ]
     },
     "metadata": {},
     "output_type": "display_data"
    }
   ],
   "source": [
<<<<<<< HEAD
    "scores = np.array(results.mean_test_score).reshape(7, 7)\n",
    "# plot the mean cross-validation scores\n",
    "heatmap(scores, xlabel='gamma', xticklabels=param_grid['gamma'], ylabel='C', yticklabels=param_grid['C'], cmap=\"viridis\")\n",
    "\n",
    "\n",
    "\n",
=======
    "scores = np.array(results.mean_test_score).reshape(6, 6)\n",
    "# plot the mean cross-validation scores\n",
    "heatmap(scores, xlabel='gamma', xticklabels=param_grid['gamma'], ylabel='C', yticklabels=param_grid['C'], cmap=\"viridis\")\n",
>>>>>>> origin/main
    "plt.show()"
   ]
  },
  {
   "cell_type": "markdown",
   "metadata": {},
   "source": [
    "# Zad\n",
    "\n",
    "Popraw greed i narysuj rysunek\n",
    "\n",
    "* 0.0001"
   ]
  },
  {
   "cell_type": "code",
<<<<<<< HEAD
   "execution_count": 31,
   "metadata": {},
   "outputs": [],
   "source": [
    "param_grid = {\n",
    "    'C': [0.0001, 0.001, 0.01, 0.1, 1, 10, 100],\n",
    "    'gamma': [0.0001, 0.001, 0.01, 0.1, 1, 10, 100]\n",
    "}"
   ]
  },
  {
   "cell_type": "code",
   "execution_count": 32,
   "metadata": {},
   "outputs": [
    {
     "name": "stdout",
     "output_type": "stream",
     "text": [
      "Best parameters: {'C': 1, 'gamma': 0.0001}\n"
     ]
    }
   ],
   "source": [
    "from sklearn.model_selection import GridSearchCV\n",
    "from sklearn.svm import SVC\n",
    "\n",
    "grid_1 = GridSearchCV(SVC(), param_grid, cv=kfold, return_train_score=True)\n",
    "grid_1.fit(X_train, y_train)\n",
    "print(\"Best parameters:\", grid_1.best_params_)"
   ]
  },
  {
   "cell_type": "code",
   "execution_count": 43,
=======
   "execution_count": null,
   "metadata": {},
   "outputs": [],
   "source": []
  },
  {
   "cell_type": "code",
   "execution_count": null,
   "metadata": {},
   "outputs": [],
   "source": []
  },
  {
   "cell_type": "code",
   "execution_count": null,
>>>>>>> origin/main
   "metadata": {
    "collapsed": true,
    "jupyter": {
     "outputs_hidden": true
    }
   },
<<<<<<< HEAD
   "outputs": [
    {
     "ename": "TypeError",
     "evalue": "Only length-1 arrays can be converted to Python scalars",
     "output_type": "error",
     "traceback": [
      "\u001b[0;31m---------------------------------------------------------------------------\u001b[0m",
      "\u001b[0;31mTypeError\u001b[0m                                 Traceback (most recent call last)",
      "Cell \u001b[0;32mIn[43], line 7\u001b[0m\n\u001b[1;32m      4\u001b[0m scores \u001b[38;5;241m=\u001b[39m np\u001b[38;5;241m.\u001b[39marray(results\u001b[38;5;241m.\u001b[39mmean_test_score)\u001b[38;5;241m.\u001b[39mreshape(\u001b[38;5;241m7\u001b[39m, \u001b[38;5;241m7\u001b[39m) \n\u001b[1;32m      6\u001b[0m \u001b[38;5;66;03m#heatmap(scores, xlabel='gamma', xticklabels=param_grid['gamma'], ylabel='C', yticklabels=param_grid['C'], cmap=\"viridis\")\u001b[39;00m\n\u001b[0;32m----> 7\u001b[0m \u001b[43mheatmap\u001b[49m\u001b[43m(\u001b[49m\u001b[43mscores\u001b[49m\u001b[43m,\u001b[49m\u001b[43m \u001b[49m\u001b[43mxlabel\u001b[49m\u001b[38;5;241;43m=\u001b[39;49m\u001b[38;5;124;43m'\u001b[39;49m\u001b[38;5;124;43mgamma\u001b[39;49m\u001b[38;5;124;43m'\u001b[39;49m\u001b[43m,\u001b[49m\u001b[43m \u001b[49m\u001b[43mxticklabels\u001b[49m\u001b[38;5;241;43m=\u001b[39;49m\u001b[43mparam_grid\u001b[49m\u001b[43m[\u001b[49m\u001b[38;5;124;43m'\u001b[39;49m\u001b[38;5;124;43mgamma\u001b[39;49m\u001b[38;5;124;43m'\u001b[39;49m\u001b[43m]\u001b[49m\u001b[43m,\u001b[49m\u001b[43m \u001b[49m\u001b[43mylabel\u001b[49m\u001b[38;5;241;43m=\u001b[39;49m\u001b[38;5;124;43m'\u001b[39;49m\u001b[38;5;124;43mC\u001b[39;49m\u001b[38;5;124;43m'\u001b[39;49m\u001b[43m,\u001b[49m\u001b[43m \u001b[49m\u001b[43myticklabels\u001b[49m\u001b[38;5;241;43m=\u001b[39;49m\u001b[43mparam_grid\u001b[49m\u001b[43m[\u001b[49m\u001b[38;5;124;43m'\u001b[39;49m\u001b[38;5;124;43mC\u001b[39;49m\u001b[38;5;124;43m'\u001b[39;49m\u001b[43m]\u001b[49m\u001b[43m,\u001b[49m\u001b[43m \u001b[49m\u001b[43mcmap\u001b[49m\u001b[38;5;241;43m=\u001b[39;49m\u001b[38;5;124;43m\"\u001b[39;49m\u001b[38;5;124;43mviridis\u001b[39;49m\u001b[38;5;124;43m\"\u001b[39;49m\u001b[43m)\u001b[49m\n\u001b[1;32m      8\u001b[0m plt\u001b[38;5;241m.\u001b[39mshow()\n",
      "Cell \u001b[0;32mIn[30], line 25\u001b[0m, in \u001b[0;36mheatmap\u001b[0;34m(values, xlabel, ylabel, xticklabels, yticklabels, cmap, vmin, vmax, ax, fmt)\u001b[0m\n\u001b[1;32m     23\u001b[0m     \u001b[38;5;28;01melse\u001b[39;00m:\n\u001b[1;32m     24\u001b[0m         c \u001b[38;5;241m=\u001b[39m \u001b[38;5;124m'\u001b[39m\u001b[38;5;124mw\u001b[39m\u001b[38;5;124m'\u001b[39m\n\u001b[0;32m---> 25\u001b[0m     ax\u001b[38;5;241m.\u001b[39mtext(x, y, fmt \u001b[38;5;241m%\u001b[39m \u001b[38;5;28;43mfloat\u001b[39;49m\u001b[43m(\u001b[49m\u001b[43mvalue\u001b[49m\u001b[43m)\u001b[49m, color\u001b[38;5;241m=\u001b[39mc, ha\u001b[38;5;241m=\u001b[39m\u001b[38;5;124m\"\u001b[39m\u001b[38;5;124mcenter\u001b[39m\u001b[38;5;124m\"\u001b[39m, va\u001b[38;5;241m=\u001b[39m\u001b[38;5;124m\"\u001b[39m\u001b[38;5;124mcenter\u001b[39m\u001b[38;5;124m\"\u001b[39m)\n\u001b[1;32m     26\u001b[0m \u001b[38;5;28;01mreturn\u001b[39;00m img\n",
      "File \u001b[0;32m~/.local/lib/python3.12/site-packages/numpy/ma/core.py:4452\u001b[0m, in \u001b[0;36mMaskedArray.__float__\u001b[0;34m(self)\u001b[0m\n\u001b[1;32m   4447\u001b[0m \u001b[38;5;250m\u001b[39m\u001b[38;5;124;03m\"\"\"\u001b[39;00m\n\u001b[1;32m   4448\u001b[0m \u001b[38;5;124;03mConvert to float.\u001b[39;00m\n\u001b[1;32m   4449\u001b[0m \n\u001b[1;32m   4450\u001b[0m \u001b[38;5;124;03m\"\"\"\u001b[39;00m\n\u001b[1;32m   4451\u001b[0m \u001b[38;5;28;01mif\u001b[39;00m \u001b[38;5;28mself\u001b[39m\u001b[38;5;241m.\u001b[39msize \u001b[38;5;241m>\u001b[39m \u001b[38;5;241m1\u001b[39m:\n\u001b[0;32m-> 4452\u001b[0m     \u001b[38;5;28;01mraise\u001b[39;00m \u001b[38;5;167;01mTypeError\u001b[39;00m(\u001b[38;5;124m\"\u001b[39m\u001b[38;5;124mOnly length-1 arrays can be converted \u001b[39m\u001b[38;5;124m\"\u001b[39m\n\u001b[1;32m   4453\u001b[0m                     \u001b[38;5;124m\"\u001b[39m\u001b[38;5;124mto Python scalars\u001b[39m\u001b[38;5;124m\"\u001b[39m)\n\u001b[1;32m   4454\u001b[0m \u001b[38;5;28;01melif\u001b[39;00m \u001b[38;5;28mself\u001b[39m\u001b[38;5;241m.\u001b[39m_mask:\n\u001b[1;32m   4455\u001b[0m     warnings\u001b[38;5;241m.\u001b[39mwarn(\u001b[38;5;124m\"\u001b[39m\u001b[38;5;124mWarning: converting a masked element to nan.\u001b[39m\u001b[38;5;124m\"\u001b[39m, stacklevel\u001b[38;5;241m=\u001b[39m\u001b[38;5;241m2\u001b[39m)\n",
      "\u001b[0;31mTypeError\u001b[0m: Only length-1 arrays can be converted to Python scalars"
     ]
    },
    {
     "data": {
      "image/png": "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",
      "text/plain": [
       "<Figure size 640x480 with 1 Axes>"
      ]
     },
     "metadata": {},
     "output_type": "display_data"
    }
   ],
   "source": [
    "import pandas as pd\n",
    "\n",
    "results = pd.DataFrame(grid_1.cv_results_)\n",
    "scores = np.array(results.mean_test_score).reshape(7, 7) \n",
    "\n",
    "#heatmap(scores, xlabel='gamma', xticklabels=param_grid['gamma'], ylabel='C', yticklabels=param_grid['C'], cmap=\"viridis\")\n",
    "heatmap(scores, xlabel='gamma', xticklabels=param_grid['gamma'], ylabel='C', yticklabels=param_grid['C'], cmap=\"viridis\")\n",
    "plt.show()"
   ]
  },
  {
   "cell_type": "code",
   "execution_count": 35,
=======
   "outputs": [],
   "source": []
  },
  {
   "cell_type": "code",
   "execution_count": 13,
>>>>>>> origin/main
   "metadata": {},
   "outputs": [
    {
     "name": "stdout",
     "output_type": "stream",
     "text": [
      "SVM rbf\n",
<<<<<<< HEAD
      "R^2: 0.967479674796748\n",
      "recall_score: 0.9834710743801653\n",
      "f1_score: 0.9754098360655737\n",
      "accuracy_score: 0.9680851063829787\n"
=======
      "R^2: 0.9818181818181818\n",
      "recall_score: 0.8925619834710744\n",
      "f1_score: 0.935064935064935\n",
      "accuracy_score: 0.9202127659574468\n"
>>>>>>> origin/main
     ]
    }
   ],
   "source": [
    "from sklearn import  metrics\n",
    "\n",
    "\n",
    "models = []\n",
    "models.append(('SVM rbf', grid_1.best_estimator_))\n",
    "\n",
    "\n",
    "precision_score = []\n",
    "recall_score = []\n",
    "f1_score = []\n",
    "accuracy_score = []\n",
    "for name, model in models:\n",
    "    print(name)\n",
    "    print(\"R^2: {}\".format(metrics.precision_score(y_test, model.predict(X_test)) ))\n",
    "    print(\"recall_score: {}\".format( metrics.recall_score(y_test, model.predict(X_test)) ))\n",
    "    print(\"f1_score: {}\".format( metrics.f1_score(y_test, model.predict(X_test)) ))\n",
    "    print(\"accuracy_score: {}\".format( metrics.accuracy_score(y_test, model.predict(X_test)) ))\n",
    "    precision_score.append(metrics.precision_score(y_test, model.predict(X_test)))\n",
    "    recall_score.append(metrics.recall_score(y_test, model.predict(X_test)))\n",
    "    f1_score.append( metrics.f1_score(y_test, model.predict(X_test)))\n",
    "    accuracy_score.append(metrics.accuracy_score(y_test, model.predict(X_test)))"
   ]
  },
  {
   "cell_type": "code",
<<<<<<< HEAD
   "execution_count": 36,
=======
   "execution_count": 14,
>>>>>>> origin/main
   "metadata": {},
   "outputs": [
    {
     "data": {
      "text/html": [
       "<div>\n",
       "<style scoped>\n",
       "    .dataframe tbody tr th:only-of-type {\n",
       "        vertical-align: middle;\n",
       "    }\n",
       "\n",
       "    .dataframe tbody tr th {\n",
       "        vertical-align: top;\n",
       "    }\n",
       "\n",
       "    .dataframe thead th {\n",
       "        text-align: right;\n",
       "    }\n",
       "</style>\n",
       "<table border=\"1\" class=\"dataframe\">\n",
       "  <thead>\n",
       "    <tr style=\"text-align: right;\">\n",
       "      <th></th>\n",
       "      <th>Method</th>\n",
       "      <th>precision_score</th>\n",
       "      <th>recall_score</th>\n",
       "      <th>f1_score</th>\n",
       "      <th>accuracy_score</th>\n",
       "    </tr>\n",
       "  </thead>\n",
       "  <tbody>\n",
       "    <tr>\n",
       "      <th>0</th>\n",
       "      <td>SVM rbf</td>\n",
<<<<<<< HEAD
       "      <td>0.96748</td>\n",
       "      <td>0.983471</td>\n",
       "      <td>0.97541</td>\n",
       "      <td>0.968085</td>\n",
=======
       "      <td>0.981818</td>\n",
       "      <td>0.892562</td>\n",
       "      <td>0.935065</td>\n",
       "      <td>0.920213</td>\n",
>>>>>>> origin/main
       "    </tr>\n",
       "  </tbody>\n",
       "</table>\n",
       "</div>"
      ],
      "text/plain": [
       "    Method  precision_score  recall_score  f1_score  accuracy_score\n",
<<<<<<< HEAD
       "0  SVM rbf          0.96748      0.983471   0.97541        0.968085"
      ]
     },
     "execution_count": 36,
=======
       "0  SVM rbf         0.981818      0.892562  0.935065        0.920213"
      ]
     },
     "execution_count": 14,
>>>>>>> origin/main
     "metadata": {},
     "output_type": "execute_result"
    }
   ],
   "source": [
    "import pandas as pd\n",
    "d = {'precision_score': precision_score, \n",
    "     'recall_score': recall_score, \n",
    "     'f1_score': f1_score,\n",
    "     'accuracy_score' : accuracy_score\n",
    "    }\n",
    "df = pd.DataFrame(data=d)\n",
    "df.insert(loc=0, column='Method', value=['SVM rbf'])\n",
    "df"
   ]
  },
  {
   "cell_type": "code",
<<<<<<< HEAD
   "execution_count": 37,
=======
   "execution_count": null,
>>>>>>> origin/main
   "metadata": {
    "collapsed": true,
    "jupyter": {
     "outputs_hidden": true
    }
   },
<<<<<<< HEAD
   "outputs": [
    {
     "name": "stdout",
     "output_type": "stream",
     "text": [
      "Precision: 0.967479674796748\n",
      "Recall: 0.9834710743801653\n",
      "F1 Score: 0.9754098360655737\n",
      "Accuracy: 0.9680851063829787\n"
     ]
    }
   ],
   "source": [
    "from sklearn import metrics\n",
    "\n",
    "\n",
    "best_model = grid_1.best_estimator_\n",
    "y_pred = best_model.predict(X_test)\n",
    "\n",
    "print(\"Precision:\", metrics.precision_score(y_test, y_pred))\n",
    "print(\"Recall:\", metrics.recall_score(y_test, y_pred))\n",
    "print(\"F1 Score:\", metrics.f1_score(y_test, y_pred))\n",
    "print(\"Accuracy:\", metrics.accuracy_score(y_test, y_pred))"
   ]
  },
  {
   "cell_type": "code",
   "execution_count": 38,
=======
   "outputs": [],
   "source": []
  },
  {
   "cell_type": "code",
   "execution_count": null,
>>>>>>> origin/main
   "metadata": {
    "collapsed": true,
    "jupyter": {
     "outputs_hidden": true
    }
   },
<<<<<<< HEAD
   "outputs": [
    {
     "name": "stdout",
     "output_type": "stream",
     "text": [
      "    Method  precision_score  recall_score  f1_score  accuracy_score\n",
      "0  SVM rbf          0.96748      0.983471   0.97541        0.968085\n"
     ]
    }
   ],
   "source": [
    "d = {'precision_score': [metrics.precision_score(y_test, y_pred)],\n",
    "     'recall_score': [metrics.recall_score(y_test, y_pred)],\n",
    "     'f1_score': [metrics.f1_score(y_test, y_pred)],\n",
    "     'accuracy_score': [metrics.accuracy_score(y_test, y_pred)]}\n",
    "df = pd.DataFrame(data=d)\n",
    "df.insert(loc=0, column='Method', value=['SVM rbf'])\n",
    "print(df)"
   ]
=======
   "outputs": [],
   "source": []
>>>>>>> origin/main
  },
  {
   "cell_type": "code",
   "execution_count": null,
   "metadata": {
    "collapsed": true,
    "jupyter": {
     "outputs_hidden": true
    }
   },
   "outputs": [],
   "source": []
  },
  {
   "cell_type": "code",
   "execution_count": null,
   "metadata": {},
   "outputs": [],
   "source": []
  }
 ],
 "metadata": {
  "kernelspec": {
   "display_name": "Python 3 (ipykernel)",
   "language": "python",
   "name": "python3"
  },
  "language_info": {
   "codemirror_mode": {
    "name": "ipython",
    "version": 3
   },
   "file_extension": ".py",
   "mimetype": "text/x-python",
   "name": "python",
   "nbconvert_exporter": "python",
   "pygments_lexer": "ipython3",
<<<<<<< HEAD
   "version": "3.12.2"
=======
   "version": "3.8.10"
>>>>>>> origin/main
  }
 },
 "nbformat": 4,
 "nbformat_minor": 4
}
