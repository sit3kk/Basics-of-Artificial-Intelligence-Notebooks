{
 "cells": [
  {
   "cell_type": "markdown",
   "metadata": {},
   "source": [
    "# Podstawowe operatory\n",
    "\n",
    " * \\+ – dodawanie: 4 + 7.5 daje 11.5;\n",
    " * \\- – odejmowanie: 30 - 24 daje 6;\n",
    " * \\* – mnożenie: 2 * 3 daje 6;\n",
    " * \\*\\* – potęgowanie: 3 ** 4 daje 81;\n",
    " * / – dzielenie: 4 / 3 daje 1;\n",
    " * // – dzielenie całkowite: 4 // 3.0 daje 1;\n",
    " * % – dzielenie modulo: 8 % 3 daje 2. "
   ]
  },
  {
   "cell_type": "markdown",
   "metadata": {},
   "source": [
    "# Operatory porównania:\n",
    "\n",
    " * < – mniejsze,\n",
    " * \\> – większe,\n",
    " * <= – mniejsze lub równe,\n",
    " * == – równe,\n",
    " * != – różne. "
   ]
  },
  {
   "cell_type": "markdown",
   "metadata": {},
   "source": [
    "# 1. Warunki\n",
    "Python używa zmiennych logicznych w celu oceny warunków. \n",
    "Wartości logiczne prawda (True) i fałsz (False) są zwracane, gdy wyrażenie jest porównywane i oceniane. \n",
    "\n",
    "Na przykład:"
   ]
  },
  {
   "cell_type": "code",
   "execution_count": 75,
   "metadata": {},
   "outputs": [
    {
     "name": "stdout",
     "output_type": "stream",
     "text": [
      "True\n",
      "False\n",
      "True\n"
     ]
    }
   ],
   "source": [
    "x = 2\n",
    "print(x == 2)\n",
    "print(x == 3)\n",
    "print(x < 3)"
   ]
  },
  {
   "cell_type": "markdown",
   "metadata": {},
   "source": [
    "# 1.1 Instrukcje Warunkowe\n",
    "Aby uzależnić wykonanie instrukcji od rezultatu porównania, używamy instrukcji warunkowej"
   ]
  },
  {
   "cell_type": "code",
   "execution_count": 76,
   "metadata": {},
   "outputs": [
    {
     "name": "stdout",
     "output_type": "stream",
     "text": [
      "OK\n"
     ]
    }
   ],
   "source": [
    "x=2\n",
    "\n",
    "if x==2: \n",
    "    print(\"OK\")"
   ]
  },
  {
   "cell_type": "markdown",
   "metadata": {},
   "source": [
    "Przykład bardziej skomplikowany:"
   ]
  },
  {
   "cell_type": "code",
   "execution_count": 77,
   "metadata": {},
   "outputs": [
    {
     "name": "stdout",
     "output_type": "stream",
     "text": [
      "2\n"
     ]
    }
   ],
   "source": [
    "a = 2\n",
    "b = 4\n",
    "if a > b:\n",
    "    print(b)\n",
    "else:\n",
    "    print(a)"
   ]
  },
  {
   "cell_type": "markdown",
   "metadata": {},
   "source": [
    "W powyższym przykładzie użyliśmy pełnej instrukcji warunkowej <b>IF/ELSE</b>. Istnieje jeszcze bardziej bogatsza instrukcja warunkowa tzw. instrukcja wyboru wielokrotnego <b>IF/ELIF/ELSE</b>:"
   ]
  },
  {
   "cell_type": "code",
   "execution_count": 78,
   "metadata": {},
   "outputs": [
    {
     "name": "stdout",
     "output_type": "stream",
     "text": [
      "Ten program porównuje dwie liczby\n",
      "Liczba 1 w stosunku do 2 jest:\n",
      "mniejsza\n"
     ]
    }
   ],
   "source": [
    "print(\"Ten program porównuje dwie liczby\")\n",
    "x = input(\"Podaj pierwszą z dwóch liczb:\")                                 \n",
    "y = input(\"Podaj drugą z dwóch liczb:\")                                    \n",
    "print(\"Liczba\",x,\"w stosunku do\",y,\"jest:\",)\n",
    "if x==y:\n",
    "    print(\"taka sama\")\n",
    "elif x>y:\n",
    "    print(\"większa\")\n",
    "else:\n",
    "    print(\"mniejsza\")"
   ]
  },
  {
   "cell_type": "markdown",
   "metadata": {},
   "source": [
    "# Operatory logiczne\n",
    "Operatory logiczne, takie jak: <b>and</b> i <b>or</b> umożliwiają budowanie złożonych wyrażeń logicznych, na przykład:"
   ]
  },
  {
   "cell_type": "markdown",
   "metadata": {},
   "source": [
    "# Zad. 1\n",
    "\n",
    "Napisz program, który sprawdzi, czy podane przez użytkownika koła mają niepuste przecięcie. Użytkownik programu podaje współrzędne środka oraz promień każdego koła.\n"
   ]
  },
  {
   "cell_type": "code",
   "execution_count": 3,
   "metadata": {
    "collapsed": true
   },
   "outputs": [
    {
     "name": "stdout",
     "output_type": "stream",
     "text": [
      "Circle number 1: x, y, r \n",
      "Circle number 2: x, y, r \n",
      "Circles intersect\n"
     ]
    }
   ],
   "source": [
    "\n",
    "\n",
    "print(\"Circle number 1: x, y, r \")\n",
    "x1, y1, r1 = input().split()\n",
    "\n",
    "print(\"Circle number 2: x, y, r \")\n",
    "x2, y2, r2 = input().split()\n",
    "\n",
    "if (int(x1)-int(x2))**2 + (int(y1)-int(y2))**2 < (int(r1)+int(r2))**2:\n",
    "    print(\"Circles intersect\")\n",
    "else:\n",
    "    print(\"Circles don't intersect\")\n",
    "    \n"
   ]
  },
  {
   "cell_type": "markdown",
   "metadata": {},
   "source": [
    "# Operator ,,in''\n",
    "Operator <b>in</b> może być używany w celu sprawdzenia, czy określony ,,obiekt'' istnieje w obrębie iterowalnego kontenera obiektów, np. listy:"
   ]
  },
  {
   "cell_type": "code",
   "execution_count": 79,
   "metadata": {},
   "outputs": [
    {
     "name": "stdout",
     "output_type": "stream",
     "text": [
      "Your name is not either John or Rick.\n"
     ]
    }
   ],
   "source": [
    "name = \"Adam\"\n",
    "if name in [\"John\", \"Rick\"]:\n",
    "    print(\"Your name is either John or Rick.\")\n",
    "else:\n",
    "    print(\"Your name is not either John or Rick.\")"
   ]
  },
  {
   "cell_type": "markdown",
   "metadata": {},
   "source": [
    "Instrukcje warunkowe możemy zagnieżdżać, np.:"
   ]
  },
  {
   "cell_type": "markdown",
   "metadata": {},
   "source": [
    "# 2. Pętle\n",
    "W Pythonie istnieją dwa typy pętli: <b>for<b> i <b>while<b>."
   ]
  },
  {
   "cell_type": "markdown",
   "metadata": {},
   "source": [
    "# 2.1 Pętle iterowane po elementach sekwencji\n",
    "\n",
    "Typowa pętla po liczbach:"
   ]
  },
  {
   "cell_type": "code",
   "execution_count": 80,
   "metadata": {},
   "outputs": [
    {
     "name": "stdout",
     "output_type": "stream",
     "text": [
      "3\n",
      "4\n",
      "5\n",
      "6\n",
      "7\n",
      "8\n",
      "9\n"
     ]
    }
   ],
   "source": [
    "for x in range(3,10):\n",
    "      print(x)"
   ]
  },
  {
   "cell_type": "markdown",
   "metadata": {},
   "source": [
    "Funkcja <b>range</b> tworzy \"listę\" wartości całkowitych: \n",
    "\n",
    "- od zera do podanej wartości (jeżeli podamy 1 argument) \n",
    "- od - do (jeżeli podamy 2 argumenty)\n",
    "- możemy podać też trzeci parametr określający przyrost (normalnie +1).\n"
   ]
  },
  {
   "cell_type": "code",
   "execution_count": 81,
   "metadata": {},
   "outputs": [
    {
     "name": "stdout",
     "output_type": "stream",
     "text": [
      "range(0, 10)\n",
      "range(3, 10)\n",
      "range(1, 10, 2)\n",
      "range(4, 0, -1)\n"
     ]
    }
   ],
   "source": [
    "print(range(10))\n",
    "print(range(3, 10))\n",
    "print(range(1,10,2))\n",
    "print(range(4,0,-1))"
   ]
  },
  {
   "cell_type": "markdown",
   "metadata": {},
   "source": [
    "Pętla <b>for</b> może też iterować inne typy danych, np napisy, listy:"
   ]
  },
  {
   "cell_type": "code",
   "execution_count": 82,
   "metadata": {},
   "outputs": [
    {
     "name": "stdout",
     "output_type": "stream",
     "text": [
      "Zdrabniamy literki\n",
      "2 3 5 7 \n",
      "apple orange peach "
     ]
    }
   ],
   "source": [
    "bar = \"Zdrabniamy literki\"\n",
    "for i in bar:\n",
    "    print(i, end =\"\")\n",
    "print()\n",
    "\n",
    "x = [2, 3, 5, 7]\n",
    "for i in x:\n",
    "    print(i, end =\" \") \n",
    "print()\n",
    "\n",
    "for e in ['apple', 'orange', 'peach']:\n",
    "    print(e, end =\" \")"
   ]
  },
  {
   "cell_type": "markdown",
   "metadata": {},
   "source": [
    "W takiej pętli nie mamy dostępu do indeksu elementu w liście, ale możemy taki uzyskać, odpowiednio mapując kolekcję za pomocą <b>enumerate</b> (generator):"
   ]
  },
  {
   "cell_type": "code",
   "execution_count": 83,
   "metadata": {},
   "outputs": [
    {
     "name": "stdout",
     "output_type": "stream",
     "text": [
      "[(0, 'apple'), (1, 'orange'), (2, 'peach')] \n",
      "\n",
      "0 apple\n",
      "1 orange\n",
      "2 peach\n"
     ]
    }
   ],
   "source": [
    "print(list(enumerate(['apple', 'orange', 'peach'])), \"\\n\")\n",
    "\n",
    "for i, x in enumerate(['apple', 'orange', 'peach']):\n",
    "    print(i, x)"
   ]
  },
  {
   "cell_type": "markdown",
   "metadata": {},
   "source": [
    "# 2.2 Pętla while\n",
    "\n",
    "Pętla **while** powtarza instrukcje znajdujące się w jej wnętrzu tak długo, dopóki podany warunek logiczny jest spełniony. \n",
    "\n",
    "Na przykład:"
   ]
  },
  {
   "cell_type": "code",
   "execution_count": 84,
   "metadata": {},
   "outputs": [
    {
     "name": "stdout",
     "output_type": "stream",
     "text": [
      "[1, 2, 3, 4, 5]\n",
      "[1, 2, 3, 4]\n",
      "[1, 2, 3]\n",
      "[1, 2]\n",
      "[1]\n",
      "[]\n"
     ]
    }
   ],
   "source": [
    "x=[1,2,3,4,5,6]\n",
    "while x:\n",
    "    x=x[:len(x)-1] # funkcja len() zwraca długość listy (liczbę elementów)\n",
    "    print(x)"
   ]
  },
  {
   "cell_type": "code",
   "execution_count": 85,
   "metadata": {},
   "outputs": [
    {
     "name": "stdout",
     "output_type": "stream",
     "text": [
      "Jestem w while.\n",
      "Jestem w while.\n",
      "Jestem w while.\n",
      "Jestem w while.\n",
      "Jestem w while.\n"
     ]
    }
   ],
   "source": [
    "licznik = 10\n",
    "\n",
    "while licznik < 15:\n",
    "    licznik += 1\n",
    "    print(\"Jestem w while.\")"
   ]
  },
  {
   "cell_type": "markdown",
   "metadata": {},
   "source": [
    "\n",
    "# Zad. 2\n",
    "Napisz program, który będzie wczytywał kolejne słowa i je wypisywał aż do wczytania słowa \"stop\" po którym program się zatrzyma.\n"
   ]
  },
  {
   "cell_type": "code",
   "execution_count": 4,
   "metadata": {},
   "outputs": [
    {
     "name": "stdout",
     "output_type": "stream",
     "text": [
      "In while....\n"
     ]
    }
   ],
   "source": [
    "while input(\"Word: \") != \"stop\":\n",
    "    print(\"In while....\")"
   ]
  },
  {
   "cell_type": "markdown",
   "metadata": {},
   "source": [
    "# Zad. 3\n",
    "\n",
    "Napisz program tworzący tablicę n na m elementową w kształcie tablicy szachowej. Np. dla\n",
    "<br />\n",
    "<tt>\n",
    "n = 5<br />\n",
    "m = 5\n",
    "</tt>\n",
    "\n",
    "otrzymujemy\n",
    "\n",
    "<br />\n",
    "<tt>\n",
    "10101<br />\n",
    "01010<br />\n",
    "10101<br />\n",
    "01010<br />\n",
    "10101<br />\n",
    "</tt>"
   ]
  },
  {
   "cell_type": "code",
   "execution_count": 1,
   "metadata": {},
   "outputs": [
    {
     "name": "stdout",
     "output_type": "stream",
     "text": [
      "[[1, 0, 1], [0, 1, 0], [1, 0, 1], [0, 1, 0], [1, 0, 1], [0, 1, 0], [1, 0, 1], [0, 1, 0], [1, 0, 1], [0, 1, 0]]\n"
     ]
    }
   ],
   "source": [
    "\n",
    "n = int(input(\"n: \"))\n",
    "m = int(input(\"m: \"))\n",
    "\n",
    "matrix = [[(i+j) % 2 for j in range(m)] for i in range(n)]\n",
    "\n",
    "print(matrix)\n",
    "\n",
    "\n",
    "print(matrix)\n",
    "\n",
    "\n",
    "\n",
    "\n"
   ]
  },
  {
   "cell_type": "markdown",
   "metadata": {},
   "source": [
    "# 3. Formatowanie liczb\n",
    "\n",
    "Celem pętli często jest wyświetlenie kolumny liczb. \n",
    "\n",
    "Aby liczby wyświetlane były w należyty sposób i w pożądanym miejscu używamy operatora formatowania **%** w połączeniu z ciągiem formatującym. \n",
    "\n",
    "Ciąg formatujący składa się ze znaku **%**, po którym następują \n",
    "\n",
    "* opcje formatowania, \n",
    "* ilość znaków przeznaczonych do wyświetlenia \n",
    "* oraz typ danej do wyświetlenia \n",
    "(przy czym tylko trzeci element – tj. typ danych jest wymagany).\n",
    "\n",
    "Typ danej sygnalizujemy pojedynczą literą. I tak:\n",
    "* litera s oznacza napis (konwertuje każdy typ danych na tekst), np.:"
   ]
  },
  {
   "cell_type": "code",
   "execution_count": 86,
   "metadata": {},
   "outputs": [
    {
     "name": "stdout",
     "output_type": "stream",
     "text": [
      "10\n",
      "[0, 1, 2, 3, 4, 5]\n",
      "txt\n",
      "      test\n",
      "test      \n",
      "xylop\n"
     ]
    }
   ],
   "source": [
    "# stary sposób\n",
    "\n",
    "print(\"%s\" % 10)\n",
    "print(\"%s\" % list(range(6)))\n",
    "print(\"%s\" % \"txt\")\n",
    "print('%10s' % 'test')\n",
    "print('%-10s' % 'test')\n",
    "print('%.5s' % 'xylophone')"
   ]
  },
  {
   "cell_type": "markdown",
   "metadata": {},
   "source": [
    "* litera **d** oznacza dziesiętną liczbę całkowitą (konwertuje kompatybilny typ danych na liczbę całkowitą), np.:"
   ]
  },
  {
   "cell_type": "code",
   "execution_count": 87,
   "metadata": {},
   "outputs": [
    {
     "name": "stdout",
     "output_type": "stream",
     "text": [
      "255\n",
      "2\n",
      "255\n",
      "2\n"
     ]
    }
   ],
   "source": [
    "print(\"%d\" % 0xff)\n",
    "print(\"%d\" % 2)\n",
    "print('{:d}'.format(0xff))\n",
    "print('{:d}'.format(2))"
   ]
  },
  {
   "cell_type": "markdown",
   "metadata": {},
   "source": [
    "* litera **f** oznacza liczbę zmiennopozycyjną w postaci ułamka dziesiętnego, np.:"
   ]
  },
  {
   "cell_type": "code",
   "execution_count": 88,
   "metadata": {},
   "outputs": [
    {
     "name": "stdout",
     "output_type": "stream",
     "text": [
      "123.000000\n",
      "1.230000\n",
      "123.000000\n",
      "1.230000\n"
     ]
    }
   ],
   "source": [
    "print(\"%f\" % 123)\n",
    "print(\"%f\" % 1.23)\n",
    "\n",
    "print('{:f}'.format(123))\n",
    "print('{:f}'.format(1.23))"
   ]
  },
  {
   "cell_type": "markdown",
   "metadata": {},
   "source": [
    "# Zad. 4\n",
    "\n",
    "Napisać program rysujący \"miarkę\" o zadanej długości. Należy prawidłowo obsłużyć liczby składające się z kilku cyfr, np.:\n",
    "\n",
    "$$|....|....|....|....|....|....|....|....|$$\n",
    "$$0 \\quad \\ 1 \\quad \\ 2 \\quad \\ 3 \\quad \\ 4 \\quad \\ 5 \\quad \\ 6 \\quad \\ 7 \\quad \\ 8$$"
   ]
  },
  {
   "cell_type": "code",
   "execution_count": 14,
   "metadata": {},
   "outputs": [
    {
     "name": "stdout",
     "output_type": "stream",
     "text": [
      "|....|....|....|....|....|....|....|....|....|....|\n",
      "0    1    2    3    4    5    6    7    8    9    10   \n"
     ]
    }
   ],
   "source": [
    "def draw_ruler(length):\n",
    "  \n",
    "    ruler_top = \"|\" + \"....|\" * length\n",
    "\n",
    "    ruler_bottom = \"\".join(f\"{i:<5}\" for i in range(length + 1))\n",
    "    \n",
    "   \n",
    "    print(ruler_top)\n",
    "    print(ruler_bottom)\n",
    "\n",
    "\n",
    "length = int(input(\"Length of measure: \"))\n",
    "draw_ruler(length)\n",
    "\n"
   ]
  },
  {
   "cell_type": "markdown",
   "metadata": {},
   "source": [
    "# Funkcje\n",
    "\n",
    "Definicja funkcji musi zawierać:\n",
    "\n",
    "* nagłówek funkcji:\n",
    "  * nazwę funkcji, która pozwoli zidentyfikować funkcję w pozostałej części programu,\n",
    "  * listę argumentów\n",
    "* ciało funkcji, zawierające instrukcje, które zostaną wykonane w momencie wywołania (użycia) funkcji\n",
    "  * jeżeli funkcja ma zwracać jakiś rezultat, musi zawierać instrukcję ,,return''\n",
    "\n",
    "W języku Python składnia definicji funkcji jest następująca:"
   ]
  },
  {
   "cell_type": "code",
   "execution_count": 89,
   "metadata": {
    "collapsed": true
   },
   "outputs": [],
   "source": [
    "def nazwa_funkcji (lista_parametrow):\n",
    "    instrukcje_do_wykonania"
   ]
  },
  {
   "cell_type": "markdown",
   "metadata": {},
   "source": [
    "Przykład funkcji:"
   ]
  },
  {
   "cell_type": "code",
   "execution_count": 90,
   "metadata": {},
   "outputs": [
    {
     "name": "stdout",
     "output_type": "stream",
     "text": [
      "To jest użycie funkcji\n",
      "tak\n"
     ]
    }
   ],
   "source": [
    "# Przykład 1\n",
    "def wypisz(lancuch):\n",
    "    print(lancuch)\n",
    "\n",
    "wypisz(\"To jest użycie funkcji\")\n",
    "x = \"tak\"\n",
    "wypisz(x)"
   ]
  },
  {
   "cell_type": "code",
   "execution_count": 91,
   "metadata": {},
   "outputs": [
    {
     "name": "stdout",
     "output_type": "stream",
     "text": [
      "12\n",
      "1\n"
     ]
    }
   ],
   "source": [
    "# Przykład 2 - zwraca wynik\n",
    "def suma(x, y):\n",
    "    return x+y\n",
    "\n",
    "print(suma(4,8))\n",
    "x = suma(2, -1)\n",
    "print(x)"
   ]
  },
  {
   "cell_type": "markdown",
   "metadata": {},
   "source": [
    "## Wiele rezultatów\n",
    "Jeżeli chcemy aby funkcja zwracała więcej niż jedną zmienną to stosujemy krotkę ,,(zmienna_1, ..., zmienna_n)'':"
   ]
  },
  {
   "cell_type": "code",
   "execution_count": 92,
   "metadata": {},
   "outputs": [
    {
     "name": "stdout",
     "output_type": "stream",
     "text": [
      "(6, -2)\n",
      "(6, -2)\n"
     ]
    }
   ],
   "source": [
    "def f1(a,b):\n",
    "    return a+b,a-b\n",
    "\n",
    "def f2(a,b):\n",
    "    return (a+b,a-b)\n",
    "\n",
    "print(f1(2, 4))\n",
    "print(f2(2, 4))"
   ]
  },
  {
   "cell_type": "markdown",
   "metadata": {},
   "source": [
    "# Zad. 5\n",
    "\n",
    "Napisz funkcje, która zwraca:\n",
    "\n",
    "* sumę,\n",
    "* różnicę,\n",
    "* iloczyn elementów listy.\n"
   ]
  },
  {
   "cell_type": "code",
   "execution_count": 20,
   "metadata": {
    "collapsed": true
   },
   "outputs": [
    {
     "name": "stdout",
     "output_type": "stream",
     "text": [
      "1.0\n"
     ]
    }
   ],
   "source": [
    "import numpy as np\n",
    "\n",
    "def sum(a):\n",
    "    return np.array(a).sum()\n",
    "\n",
    "\n",
    "def sub(a):\n",
    "    return np.diff(np.array(a))\n",
    "\n",
    "\n",
    "def multiply(list):\n",
    "    return np.prod(np.array(list))\n",
    "\n"
   ]
  },
  {
   "cell_type": "markdown",
   "metadata": {
    "collapsed": false
   },
   "source": [
    "# Klasy\n",
    "\n",
    "Definicja klasy musi zawierać:\n",
    "\n",
    "* nagłówek klasy:\n",
    "  * nazwę klasy, która pozwoli zidentyfikować klasę w pozostałej części programu,\n",
    "* ciało klasy, zawierające atrybuty i metody, które definiują zachowanie i właściwości obiektów danej klasy.\n",
    "\n",
    "W języku Python składnia definicji klasy jest następująca:\n"
   ]
  },
  {
   "cell_type": "code",
   "execution_count": 93,
   "metadata": {
    "collapsed": false
   },
   "outputs": [],
   "source": [
    "class Nazwa_klasy:\n",
    "    def funkcja1(self):\n",
    "        pass\n",
    "\n",
    "    def funkcja2(self):\n",
    "        pass"
   ]
  },
  {
   "cell_type": "markdown",
   "metadata": {
    "collapsed": false
   },
   "source": [
    "Przykład klasy:"
   ]
  },
  {
   "cell_type": "code",
   "execution_count": 94,
   "metadata": {
    "collapsed": false
   },
   "outputs": [
    {
     "name": "stdout",
     "output_type": "stream",
     "text": [
      "Ilość kół: 4\n",
      "Ilość drzwi: 5\n",
      "Maksymalna prędkość: 200\n",
      "Kolor: czerwony\n",
      "Zmieniono kolor na zielony\n",
      "Aktualna maksymalna prędkość: 220\n",
      "Otwarto drzwi.\n"
     ]
    }
   ],
   "source": [
    "# Przykład 1\n",
    "\n",
    "class Samochody:\n",
    "    def __init__(self, ilosc_kol, ilosc_drzwi, max_predkosc, kolor):\n",
    "        self.ilosc_kol = ilosc_kol\n",
    "        self.ilosc_drzwi = ilosc_drzwi\n",
    "        self.max_predkosc = max_predkosc\n",
    "        self.kolor = kolor\n",
    "\n",
    "    def wyswietl_informacje(self):\n",
    "        print(\"Ilość kół:\", self.ilosc_kol)\n",
    "        print(\"Ilość drzwi:\", self.ilosc_drzwi)\n",
    "        print(\"Maksymalna prędkość:\", self.max_predkosc)\n",
    "        print(\"Kolor:\", self.kolor)\n",
    "\n",
    "    def zmien_kolor(self, nowy_kolor):\n",
    "        self.kolor = nowy_kolor\n",
    "        print(\"Zmieniono kolor na\", self.kolor)\n",
    "\n",
    "    def przyspiesz(self, o_ile):\n",
    "        self.max_predkosc += o_ile\n",
    "        print(\"Aktualna maksymalna prędkość:\", self.max_predkosc)\n",
    "\n",
    "    def otworz_drzwi(self):\n",
    "        if self.ilosc_drzwi >= 1:\n",
    "            print(\"Otwarto drzwi.\")\n",
    "        else:\n",
    "            print(\"Samochód nie ma drzwi.\")\n",
    "\n",
    "# Przykład użycia klasy Samochody\n",
    "moj_samochod = Samochody(4, 5, 200, \"czerwony\")\n",
    "moj_samochod.wyswietl_informacje()\n",
    "moj_samochod.zmien_kolor(\"zielony\")\n",
    "moj_samochod.przyspiesz(20)\n",
    "moj_samochod.otworz_drzwi()\n"
   ]
  },
  {
   "cell_type": "markdown",
   "metadata": {
    "collapsed": false
   },
   "source": [
    "# Zad. 6\n",
    "\n",
    "Napisz klase, która reprezentuje naukowy artykul:\n",
    "\n",
    "* klassa powinna miec przynajmniej 5 funkcij"
   ]
  },
  {
   "cell_type": "code",
   "execution_count": 12,
   "metadata": {
    "collapsed": false
   },
   "outputs": [],
   "source": [
    "class article:\n",
    "    def __init__(self, title, author, text):\n",
    "        self.title = title\n",
    "        self.author = author\n",
    "        self.text = text\n",
    "\n",
    "    def show(self):\n",
    "        print(self.title)\n",
    "        print(self.author)\n",
    "        print(self.text)\n",
    "\n",
    "    def changeTitle(self, newTitle):\n",
    "        self.title = newTitle\n",
    "\n",
    "    def changeAuthor(self, newAuthor):\n",
    "        self.author = newAuthor\n",
    "\n",
    "    def changeText(self, newText):\n",
    "        self.text = newText\n",
    "\n",
    "    def showTitle(self):\n",
    "        print(self.title)\n",
    "\n",
    "    def showAuthor(self):\n",
    "        print(self.author)\n",
    "\n",
    "    def showText(self):\n",
    "        print(self.text)"
   ]
  },
  {
   "cell_type": "markdown",
   "metadata": {},
   "source": [
    "# Typy sekwencyjne\n",
    "\n",
    "Sekwencyjne typy danych służą do przechowywaniu wielu wartości w pojedynczej zmiennej (w innych językach nazywane tablicami), w odróżnieniu od typów prostych, takich jak np. int, które w pojedynczej zmiennej mogą zachować tylko jedną wartość. Do typów sekwencyjnych należą: napisy (łańcuchy znaków), listy, krotki."
   ]
  },
  {
   "cell_type": "markdown",
   "metadata": {},
   "source": [
    "# 1. Napisy/łańcuchy\n",
    "Do tej pory poznaliśmy już jeden typ sekwencyjny, mianowicie typ łańcuchowy (łańcuchy znaków). Wartości napisów podajemy w cudzysłowach lub apostrofach:"
   ]
  },
  {
   "cell_type": "code",
   "execution_count": 95,
   "metadata": {},
   "outputs": [
    {
     "name": "stdout",
     "output_type": "stream",
     "text": [
      "T\n",
      "o\n",
      "j\n",
      "s\n",
      "i\n",
      "p\n"
     ]
    }
   ],
   "source": [
    "x = \"To jest napis\"\n",
    "print(x[0])\n",
    "print(x[1])\n",
    "print(x[3])\n",
    "\n",
    "print(x[-1])\n",
    "print(x[-2])\n",
    "print(x[-3])"
   ]
  },
  {
   "cell_type": "code",
   "execution_count": 96,
   "metadata": {},
   "outputs": [
    {
     "name": "stdout",
     "output_type": "stream",
     "text": [
      "13\n"
     ]
    }
   ],
   "source": [
    "x = \"To jest napis\"\n",
    "print(len(x))"
   ]
  },
  {
   "cell_type": "markdown",
   "metadata": {},
   "source": [
    "# 2. Listy\n",
    "Do zapamiętywania sekwencji danych nie będącymi znakami (np. liczby) służy typ sekwencyjny - **lista**. Elementy list mogą być dowolnego typu, to znaczy mogą zawierać zarówno liczby jak i napisy."
   ]
  },
  {
   "cell_type": "code",
   "execution_count": 97,
   "metadata": {},
   "outputs": [
    {
     "name": "stdout",
     "output_type": "stream",
     "text": [
      "[1, 2, 3]\n",
      "[1, 'tak', 5]\n"
     ]
    }
   ],
   "source": [
    "x = [1, 2, 3]\n",
    "y = [1, 'tak', 5]\n",
    "\n",
    "print(x)\n",
    "print(y)"
   ]
  },
  {
   "cell_type": "code",
   "execution_count": 98,
   "metadata": {},
   "outputs": [
    {
     "name": "stdout",
     "output_type": "stream",
     "text": [
      "True\n",
      "False\n",
      "True\n"
     ]
    }
   ],
   "source": [
    "x = [1, 2, 3, 4]\n",
    "\n",
    "print(2 in x)\n",
    "print(3 not in x)\n",
    "print(5 not in x)"
   ]
  },
  {
   "cell_type": "code",
   "execution_count": 99,
   "metadata": {},
   "outputs": [
    {
     "name": "stdout",
     "output_type": "stream",
     "text": [
      "[range(0, 5), [8, -7, -1]]\n",
      "range(0, 5)\n",
      "[8, -7, -1]\n",
      "-7\n"
     ]
    }
   ],
   "source": [
    "x = [range(5), [8, -7, -1]]\n",
    "\n",
    "print(x)\n",
    "print(x[0])\n",
    "print(x[1])\n",
    "print(x[1][1])"
   ]
  },
  {
   "cell_type": "markdown",
   "metadata": {},
   "source": [
    "# Zad. 7\n",
    "\n",
    "Napisać program zamieniający napis na napis „rozstrzelony”, czyli wstawiający spacje przed napisem, pomiędzy literami i po napisie. Przykład: **'Python' → ' P y t h o n '**. "
   ]
  },
  {
   "cell_type": "code",
   "execution_count": 23,
   "metadata": {},
   "outputs": [
    {
     "name": "stdout",
     "output_type": "stream",
     "text": [
      "P y t h o n\n"
     ]
    }
   ],
   "source": [
    "\n",
    "\n",
    "word = \"Python\"\n",
    "newWord = \"\"\n",
    "\n",
    "newWord =  \" \".join(word)\n",
    "\n",
    "\n",
    "\n",
    "print(newWord)"
   ]
  },
  {
   "cell_type": "markdown",
   "metadata": {},
   "source": [
    "# Zad. 8\n",
    "\n",
    "Napisz funkcję **reverse(napis)**, która z napisu będącego jej argumentem tworzy odwrócony napis. Przykładowo, wywołanie reverse(\"hello\") powinno zwrócić napis \"olleh\". "
   ]
  },
  {
   "cell_type": "code",
   "execution_count": 99,
   "metadata": {},
   "outputs": [],
   "source": [
    "def reverse(word):\n",
    "    return word[::-1]\n"
   ]
  },
  {
   "cell_type": "markdown",
   "metadata": {},
   "source": [
    "## Moduły i pakiety\n",
    "Moduł to plik w Pythonie zawierający definicję klas, funkcji, stałych i zmiennych. Definicje zawarte w module mogą być zaimportowane do innych modułów lub do modułu głównego. Wewnątrz modułu jego nazwa dostępna jest jako wartość zmiennej globalnej **<tt>\\__name__</tt>**."
   ]
  },
  {
   "cell_type": "markdown",
   "metadata": {},
   "source": [
    "## Wybrane pakiety, moduły:\n",
    "\n",
    "* random - moduł ten zawiera funkcje obsługujące generowanie liczb pseudolosowych:"
   ]
  },
  {
   "cell_type": "code",
   "execution_count": 100,
   "metadata": {},
   "outputs": [
    {
     "name": "stdout",
     "output_type": "stream",
     "text": [
      "6\n",
      "5\n",
      "3\n"
     ]
    }
   ],
   "source": [
    "import random\n",
    "\n",
    "random.seed() # inicjalizacja generatora liczb pseudolosowych\n",
    "\n",
    "# losowanie liczb całkowitych z zakresu od..do.\n",
    "print(random.randint(1,10))\n",
    "print(random.randint(1,10))\n",
    "print(random.randint(1,10))"
   ]
  },
  {
   "cell_type": "markdown",
   "metadata": {},
   "source": [
    "* **math** - moduł ten zawiera definicje najczęściej używanych funkcji matematycznych:"
   ]
  },
  {
   "cell_type": "code",
   "execution_count": 101,
   "metadata": {},
   "outputs": [
    {
     "name": "stdout",
     "output_type": "stream",
     "text": [
      "5\n",
      "4\n",
      "3.0\n",
      "(0.5, 2.0)\n",
      "7.38905609893065\n",
      "1.0\n",
      "3.0\n",
      "1.5\n",
      "0.0\n",
      "0.5403023058681398\n"
     ]
    }
   ],
   "source": [
    "from math import *\n",
    "\n",
    "print(ceil(4.7)) # zwraca sufit liczby rzeczywistej\n",
    "print(floor(4.7)) # zwraca podłogę liczby rzeczywistej\n",
    "print(fabs(-3)) # zwraca wartość absolutną liczby rzeczywistej\n",
    "print(modf(2.5)) # zwraca krotkę zawierającą część ułamkową i całkowitą liczby rzeczywistej\n",
    "print(exp(2)) # zwraca e do potęgi x\n",
    "print(log(e)) # zwraca logarytm naturalny\n",
    "print(log(8, 2)) # zwraca logarytm o podstawie 2 (drugi parametr)\n",
    "print(sqrt(2.25)) # zwraca pierwiastek kwadratowy\n",
    "print(acos(1))\n",
    "print(cos(1))"
   ]
  },
  {
   "cell_type": "markdown",
   "metadata": {},
   "source": [
    "\n",
    "# Zad. 9\n",
    "\n",
    "Wyestymować wartość liczby $\\pi$ metodą Monte Carlo.\n",
    "\n",
    "Pole kwadratu to $4r^2$, a pole koła wynosi $\\pi r^2$. W takim razie stosunek:\n",
    "$$\n",
    "\\frac{P_{kola}}{P_{kwadratu}} = \\frac{\\pi r^2}{4 r^2} = \\frac{\\pi}{4}.\n",
    "$$\n",
    "W konsekwencji: \n",
    "$$\n",
    "\\pi = 4 \\frac{P_{kola}}{P_{kwadratu}}.\n",
    "$$\n",
    "\n",
    "Jeżeli będziemy losować punkty o współrzędnych od $-2r$ do $2r$, to stosunek liczby punktów zawierających się w kole o środku w punkcie $(0,0)$ i promieniu $r$ do wszystkich wylosowanych punktów, będzie dążył w nieskończoności (z pewnym prawdopodobieństwem) do stosunku tego pola koła do koła kwadratu o boku $2r$.\n",
    "\n",
    "Cała metoda sprowadza się więc do tego, by losować punkty i sprawdzać, czy mieszczą się w kole. "
   ]
  },
  {
   "cell_type": "code",
   "execution_count": 30,
   "metadata": {},
   "outputs": [
    {
     "name": "stdout",
     "output_type": "stream",
     "text": [
      "3.142204\n"
     ]
    }
   ],
   "source": [
    "import random\n",
    "\n",
    "def monte_carlo_pi(n):\n",
    "    inside = 0\n",
    "    for i in range(n):\n",
    "        x = random.random()\n",
    "        y = random.random()\n",
    "        if x*x + y*y <= 1:\n",
    "            inside += 1\n",
    "    return inside/n*4\n",
    "\n",
    "\n",
    "\n",
    "print(monte_carlo_pi(1000000))"
   ]
  }
 ],
 "metadata": {
  "kernelspec": {
   "display_name": "Python 3",
   "language": "python",
   "name": "python3"
  },
  "language_info": {
   "codemirror_mode": {
    "name": "ipython",
    "version": 3
   },
   "file_extension": ".py",
   "mimetype": "text/x-python",
   "name": "python",
   "nbconvert_exporter": "python",
   "pygments_lexer": "ipython3",
   "version": "3.12.2"
  }
 },
 "nbformat": 4,
 "nbformat_minor": 1
}
